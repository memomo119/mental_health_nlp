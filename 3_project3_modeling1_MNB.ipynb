{
 "cells": [
  {
   "cell_type": "markdown",
   "id": "d19c8f99",
   "metadata": {},
   "source": [
    "## Step 4-A: Modeling\n",
    "### Multinomial Naive Bayes Model\n",
    "\n",
    "I started with the Multinomial Naive Bayes model and Count Vectorizer, with a few custom stop words. I tune the Count Vectorizer parameters and re-used the best parameters in subsequent models. This approach may not have resulted in the most optimized models, however it did save a lot of time grid-searching. \n",
    "\n",
    "Because MNB does not do well with negative values, this model is fitted to the count vectorized data only. The other two models incorporate sentiment analysis. "
   ]
  },
  {
   "cell_type": "code",
   "execution_count": 1,
   "id": "5f45b57c",
   "metadata": {},
   "outputs": [],
   "source": [
    "import pandas as pd\n",
    "import numpy as np\n",
    "\n",
    "from sklearn.feature_extraction.text import CountVectorizer\n",
    "from sklearn.model_selection import train_test_split, GridSearchCV, cross_val_score\n",
    "from sklearn.pipeline import Pipeline\n",
    "from sklearn.naive_bayes import MultinomialNB"
   ]
  },
  {
   "cell_type": "code",
   "execution_count": 2,
   "id": "9ff9552a",
   "metadata": {},
   "outputs": [],
   "source": [
    "df = pd.read_csv('./df.csv')"
   ]
  },
  {
   "cell_type": "code",
   "execution_count": 3,
   "id": "baa7beee",
   "metadata": {
    "scrolled": false
   },
   "outputs": [
    {
     "data": {
      "text/plain": [
       "(6345, 9)"
      ]
     },
     "execution_count": 3,
     "metadata": {},
     "output_type": "execute_result"
    }
   ],
   "source": [
    "df.shape"
   ]
  },
  {
   "cell_type": "code",
   "execution_count": 4,
   "id": "6b53abec",
   "metadata": {},
   "outputs": [],
   "source": [
    "X = df['selftext']\n",
    "y = df['subreddit']"
   ]
  },
  {
   "cell_type": "code",
   "execution_count": 5,
   "id": "9f90fb7d",
   "metadata": {},
   "outputs": [
    {
     "data": {
      "text/plain": [
       "((6345,), (6345,))"
      ]
     },
     "execution_count": 5,
     "metadata": {},
     "output_type": "execute_result"
    }
   ],
   "source": [
    "X.shape, y.shape"
   ]
  },
  {
   "cell_type": "code",
   "execution_count": 6,
   "id": "2996130b",
   "metadata": {},
   "outputs": [
    {
     "data": {
      "text/plain": [
       "0    0.290623\n",
       "2    0.262096\n",
       "1    0.237825\n",
       "3    0.209456\n",
       "Name: subreddit, dtype: float64"
      ]
     },
     "execution_count": 6,
     "metadata": {},
     "output_type": "execute_result"
    }
   ],
   "source": [
    "df['subreddit'].value_counts(normalize = True)"
   ]
  },
  {
   "cell_type": "code",
   "execution_count": 7,
   "id": "e9b71247",
   "metadata": {},
   "outputs": [],
   "source": [
    "X_train, X_test, y_train, y_test = train_test_split(X, y, stratify = y, random_state = 42)"
   ]
  },
  {
   "cell_type": "code",
   "execution_count": 8,
   "id": "466620a5",
   "metadata": {},
   "outputs": [],
   "source": [
    "#custom stopwords\n",
    "my_words = ['just','do','don','ve']\n",
    "from sklearn.feature_extraction import text \n",
    "my_stop_words = text.ENGLISH_STOP_WORDS.union(my_words)"
   ]
  },
  {
   "cell_type": "code",
   "execution_count": 10,
   "id": "01104924",
   "metadata": {},
   "outputs": [],
   "source": [
    "cvec = CountVectorizer(stop_words = my_stop_words)\n",
    "Xcvec_train = cvec.fit_transform(X_train)\n",
    "Xcvec_test = cvec.transform(X_test)"
   ]
  },
  {
   "cell_type": "code",
   "execution_count": 11,
   "id": "b39ac810",
   "metadata": {},
   "outputs": [
    {
     "data": {
      "text/plain": [
       "<4758x19771 sparse matrix of type '<class 'numpy.int64'>'\n",
       "\twith 269004 stored elements in Compressed Sparse Row format>"
      ]
     },
     "execution_count": 11,
     "metadata": {},
     "output_type": "execute_result"
    }
   ],
   "source": [
    "Xcvec_train"
   ]
  },
  {
   "cell_type": "code",
   "execution_count": 12,
   "id": "e214adc9",
   "metadata": {},
   "outputs": [],
   "source": [
    "Xcv_train_df = pd.DataFrame(Xcvec_train.todense(), columns=cvec.get_feature_names())\n",
    "Xcv_test_df = pd.DataFrame(Xcvec_test.todense(), columns=cvec.get_feature_names())"
   ]
  },
  {
   "cell_type": "code",
   "execution_count": 13,
   "id": "e02bf849",
   "metadata": {},
   "outputs": [],
   "source": [
    "Xcv_train_df.reset_index(drop=True, inplace=True)\n",
    "X_train.reset_index(drop=True, inplace=True)\n",
    "Xcv_test_df.reset_index(drop=True, inplace = True)\n",
    "X_test.reset_index(drop=True, inplace=True)"
   ]
  },
  {
   "cell_type": "code",
   "execution_count": 14,
   "id": "d922405e",
   "metadata": {},
   "outputs": [],
   "source": [
    "X_train_all = pd.concat([Xcv_train_df, X_train], axis=1)\n",
    "X_test_all = pd.concat([Xcv_test_df, X_test], axis=1)"
   ]
  },
  {
   "cell_type": "code",
   "execution_count": 15,
   "id": "61cd585a",
   "metadata": {},
   "outputs": [],
   "source": [
    "X_train_all.drop(columns = 'selftext', inplace = True)"
   ]
  },
  {
   "cell_type": "code",
   "execution_count": 16,
   "id": "8e2c51a0",
   "metadata": {},
   "outputs": [
    {
     "data": {
      "text/plain": [
       "(4758, 19771)"
      ]
     },
     "execution_count": 16,
     "metadata": {},
     "output_type": "execute_result"
    }
   ],
   "source": [
    "X_train_all.shape"
   ]
  },
  {
   "cell_type": "code",
   "execution_count": null,
   "id": "10a5f701",
   "metadata": {},
   "outputs": [],
   "source": []
  },
  {
   "cell_type": "code",
   "execution_count": 17,
   "id": "2db415f0",
   "metadata": {},
   "outputs": [
    {
     "data": {
      "text/plain": [
       "MultinomialNB()"
      ]
     },
     "execution_count": 17,
     "metadata": {},
     "output_type": "execute_result"
    }
   ],
   "source": [
    "mnb = MultinomialNB()\n",
    "mnb.fit(Xcvec_train, y_train)"
   ]
  },
  {
   "cell_type": "code",
   "execution_count": 18,
   "id": "54e7865d",
   "metadata": {},
   "outputs": [
    {
     "data": {
      "text/plain": [
       "(0.894703656998739, 0.7511027095148078)"
      ]
     },
     "execution_count": 18,
     "metadata": {},
     "output_type": "execute_result"
    }
   ],
   "source": [
    "mnb.score(Xcvec_train, y_train), mnb.score(Xcvec_test, y_test)"
   ]
  },
  {
   "cell_type": "code",
   "execution_count": 19,
   "id": "476da86a",
   "metadata": {},
   "outputs": [],
   "source": [
    "pipe = Pipeline([\n",
    "    ('cvec', CountVectorizer(stop_words = my_stop_words)),\n",
    "    ('mnb', MultinomialNB())\n",
    "])"
   ]
  },
  {
   "cell_type": "code",
   "execution_count": 20,
   "id": "d527ee09",
   "metadata": {},
   "outputs": [],
   "source": [
    "pipe_params = {\n",
    "    'cvec__max_features': [4500, 4000, 5000],\n",
    "    'cvec__min_df': [2, 3],\n",
    "    'cvec__max_df': [.9, .95],\n",
    "    'cvec__ngram_range': [(1,1), (1,2)]\n",
    "}"
   ]
  },
  {
   "cell_type": "code",
   "execution_count": 21,
   "id": "f6415ede",
   "metadata": {},
   "outputs": [
    {
     "data": {
      "text/plain": [
       "((4758,), (4758,))"
      ]
     },
     "execution_count": 21,
     "metadata": {},
     "output_type": "execute_result"
    }
   ],
   "source": [
    "X_train.shape, y_train.shape"
   ]
  },
  {
   "cell_type": "code",
   "execution_count": 22,
   "id": "80fd09c7",
   "metadata": {},
   "outputs": [
    {
     "data": {
      "text/plain": [
       "GridSearchCV(cv=3,\n",
       "             estimator=Pipeline(steps=[('cvec',\n",
       "                                        CountVectorizer(stop_words=frozenset({'a',\n",
       "                                                                              'about',\n",
       "                                                                              'above',\n",
       "                                                                              'across',\n",
       "                                                                              'after',\n",
       "                                                                              'afterwards',\n",
       "                                                                              'again',\n",
       "                                                                              'against',\n",
       "                                                                              'all',\n",
       "                                                                              'almost',\n",
       "                                                                              'alone',\n",
       "                                                                              'along',\n",
       "                                                                              'already',\n",
       "                                                                              'also',\n",
       "                                                                              'although',\n",
       "                                                                              'always',\n",
       "                                                                              'am',\n",
       "                                                                              'among',\n",
       "                                                                              'amongst',\n",
       "                                                                              'amoungst',\n",
       "                                                                              'amount',\n",
       "                                                                              'an',\n",
       "                                                                              'and',\n",
       "                                                                              'another',\n",
       "                                                                              'any',\n",
       "                                                                              'anyhow',\n",
       "                                                                              'anyone',\n",
       "                                                                              'anything',\n",
       "                                                                              'anyway',\n",
       "                                                                              'anywhere', ...}))),\n",
       "                                       ('mnb', MultinomialNB())]),\n",
       "             param_grid={'cvec__max_df': [0.9, 0.95],\n",
       "                         'cvec__max_features': [4500, 4000, 5000],\n",
       "                         'cvec__min_df': [2, 3],\n",
       "                         'cvec__ngram_range': [(1, 1), (1, 2)]})"
      ]
     },
     "execution_count": 22,
     "metadata": {},
     "output_type": "execute_result"
    }
   ],
   "source": [
    "gs = GridSearchCV(pipe, pipe_params, cv = 3)\n",
    "gs.fit(X_train, y_train)"
   ]
  },
  {
   "cell_type": "code",
   "execution_count": 23,
   "id": "daa11e5c",
   "metadata": {},
   "outputs": [
    {
     "data": {
      "text/plain": [
       "(0.8520386717108028, 0.7548834278512917)"
      ]
     },
     "execution_count": 23,
     "metadata": {},
     "output_type": "execute_result"
    }
   ],
   "source": [
    "gs.score(X_train, y_train), gs.score(X_test, y_test)"
   ]
  },
  {
   "cell_type": "code",
   "execution_count": 24,
   "id": "ff8ae34a",
   "metadata": {},
   "outputs": [
    {
     "data": {
      "text/plain": [
       "{'cvec__max_df': 0.9,\n",
       " 'cvec__max_features': 5000,\n",
       " 'cvec__min_df': 3,\n",
       " 'cvec__ngram_range': (1, 2)}"
      ]
     },
     "execution_count": 24,
     "metadata": {},
     "output_type": "execute_result"
    }
   ],
   "source": [
    "gs.best_params_"
   ]
  }
 ],
 "metadata": {
  "kernelspec": {
   "display_name": "Python 3",
   "language": "python",
   "name": "python3"
  },
  "language_info": {
   "codemirror_mode": {
    "name": "ipython",
    "version": 3
   },
   "file_extension": ".py",
   "mimetype": "text/x-python",
   "name": "python",
   "nbconvert_exporter": "python",
   "pygments_lexer": "ipython3",
   "version": "3.8.8"
  }
 },
 "nbformat": 4,
 "nbformat_minor": 5
}
