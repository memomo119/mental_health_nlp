{
 "cells": [
  {
   "cell_type": "markdown",
   "id": "f48e8bd9",
   "metadata": {},
   "source": [
    "## Step 3: Data Cleaning & EDA\n",
    "\n",
    "### Data Dictionary\n",
    "| Field       | Data Type | Description                                                                                         |\n",
    "|-------------|-----------|-----------------------------------------------------------------------------------------------------|\n",
    "| compound    | float     | overall score from VADER sentiment analysis                                                         |\n",
    "| created_UTC | int       | time stamp of when the post was initially created on subreddit <br>used in data collection only |\n",
    "| length      | int       | character count of the post after cleaning                                       |\n",
    "| neg         | float     | score for negative-oriented sentiment                                                               |\n",
    "| neu         | float     | score for neutral sentiment                                                                         |\n",
    "| pos         | float     | score for positive-oriented sentiment                                                               |\n",
    "| selftext    | str       | content of the post                                                                                 |\n",
    "| subreddit   | int       | Anxiety = 0<br>ADHD = 1<br>Depression = 2<br>Autism = 3                                             |\n",
    "| title       | str       | title of the post                                                                                   |\n",
    "| word count  | int       | number of words in the post, after cleaning                                       |"
   ]
  },
  {
   "cell_type": "code",
   "execution_count": 1,
   "id": "542a5cd5",
   "metadata": {},
   "outputs": [],
   "source": [
    "import pandas as pd\n",
    "import matplotlib.pyplot as plt\n",
    "import seaborn as sns\n",
    "import numpy as np\n",
    "\n",
    "from nltk.corpus import stopwords\n",
    "from nltk.sentiment.vader import SentimentIntensityAnalyzer"
   ]
  },
  {
   "cell_type": "code",
   "execution_count": 2,
   "id": "9e7c8613",
   "metadata": {},
   "outputs": [],
   "source": [
    "anxiety = pd.read_csv('./anxiety.csv')\n",
    "adhd = pd.read_csv('./adhd.csv')\n",
    "autism = pd.read_csv('./autism.csv')\n",
    "depression = pd.read_csv('./depression.csv')"
   ]
  },
  {
   "cell_type": "markdown",
   "id": "17998781",
   "metadata": {},
   "source": [
    "### Cleaning\n",
    "\n",
    "Immediately upon looking at the data, I could see that some posts had been flagged for deletion or removal by either subreddit mods or the original poster. There were also some posts that had no text content (presumably a picture). \n",
    "\n",
    "I wrote a function called `gone_posts` to convert all removed or deleted posts to nulls, then I deleted nulls. This left between 3600-4500 posts per subreddit. "
   ]
  },
  {
   "cell_type": "code",
   "execution_count": 3,
   "id": "5fff9c72",
   "metadata": {},
   "outputs": [
    {
     "data": {
      "text/html": [
       "<div>\n",
       "<style scoped>\n",
       "    .dataframe tbody tr th:only-of-type {\n",
       "        vertical-align: middle;\n",
       "    }\n",
       "\n",
       "    .dataframe tbody tr th {\n",
       "        vertical-align: top;\n",
       "    }\n",
       "\n",
       "    .dataframe thead th {\n",
       "        text-align: right;\n",
       "    }\n",
       "</style>\n",
       "<table border=\"1\" class=\"dataframe\">\n",
       "  <thead>\n",
       "    <tr style=\"text-align: right;\">\n",
       "      <th></th>\n",
       "      <th>subreddit</th>\n",
       "      <th>title</th>\n",
       "      <th>selftext</th>\n",
       "      <th>created_utc</th>\n",
       "    </tr>\n",
       "  </thead>\n",
       "  <tbody>\n",
       "    <tr>\n",
       "      <th>0</th>\n",
       "      <td>Anxiety</td>\n",
       "      <td>If you're looking for someone to talk to, I'm ...</td>\n",
       "      <td>\\nAvailable most of the time. 24M.</td>\n",
       "      <td>1635429580</td>\n",
       "    </tr>\n",
       "    <tr>\n",
       "      <th>1</th>\n",
       "      <td>Anxiety</td>\n",
       "      <td>Weird Things that Give Me Anxiety</td>\n",
       "      <td>I have a lot of things that trigger my anxiety...</td>\n",
       "      <td>1635429095</td>\n",
       "    </tr>\n",
       "    <tr>\n",
       "      <th>2</th>\n",
       "      <td>Anxiety</td>\n",
       "      <td>Im supee anxious waiting for the company's fin...</td>\n",
       "      <td>I interviewed for a company and I really like ...</td>\n",
       "      <td>1635429059</td>\n",
       "    </tr>\n",
       "    <tr>\n",
       "      <th>3</th>\n",
       "      <td>Anxiety</td>\n",
       "      <td>Anxiety physical Symptoms</td>\n",
       "      <td>What kind of physical symptoms do you experien...</td>\n",
       "      <td>1635428166</td>\n",
       "    </tr>\n",
       "    <tr>\n",
       "      <th>4</th>\n",
       "      <td>Anxiety</td>\n",
       "      <td>Afraid that I’m going crazy</td>\n",
       "      <td>[removed]</td>\n",
       "      <td>1635427998</td>\n",
       "    </tr>\n",
       "  </tbody>\n",
       "</table>\n",
       "</div>"
      ],
      "text/plain": [
       "  subreddit                                              title  \\\n",
       "0   Anxiety  If you're looking for someone to talk to, I'm ...   \n",
       "1   Anxiety                  Weird Things that Give Me Anxiety   \n",
       "2   Anxiety  Im supee anxious waiting for the company's fin...   \n",
       "3   Anxiety                          Anxiety physical Symptoms   \n",
       "4   Anxiety                        Afraid that I’m going crazy   \n",
       "\n",
       "                                            selftext  created_utc  \n",
       "0                 \\nAvailable most of the time. 24M.   1635429580  \n",
       "1  I have a lot of things that trigger my anxiety...   1635429095  \n",
       "2  I interviewed for a company and I really like ...   1635429059  \n",
       "3  What kind of physical symptoms do you experien...   1635428166  \n",
       "4                                          [removed]   1635427998  "
      ]
     },
     "execution_count": 3,
     "metadata": {},
     "output_type": "execute_result"
    }
   ],
   "source": [
    "anxiety.head()"
   ]
  },
  {
   "cell_type": "code",
   "execution_count": 4,
   "id": "f14600de",
   "metadata": {},
   "outputs": [
    {
     "data": {
      "text/html": [
       "<div>\n",
       "<style scoped>\n",
       "    .dataframe tbody tr th:only-of-type {\n",
       "        vertical-align: middle;\n",
       "    }\n",
       "\n",
       "    .dataframe tbody tr th {\n",
       "        vertical-align: top;\n",
       "    }\n",
       "\n",
       "    .dataframe thead th {\n",
       "        text-align: right;\n",
       "    }\n",
       "</style>\n",
       "<table border=\"1\" class=\"dataframe\">\n",
       "  <thead>\n",
       "    <tr style=\"text-align: right;\">\n",
       "      <th></th>\n",
       "      <th>subreddit</th>\n",
       "      <th>title</th>\n",
       "      <th>selftext</th>\n",
       "      <th>created_utc</th>\n",
       "    </tr>\n",
       "  </thead>\n",
       "  <tbody>\n",
       "    <tr>\n",
       "      <th>0</th>\n",
       "      <td>ADHD</td>\n",
       "      <td>First time diagnosed adhd? Vyvanse 30mg.</td>\n",
       "      <td>Hey friends. 25m here. Ive been recently diagn...</td>\n",
       "      <td>1635429501</td>\n",
       "    </tr>\n",
       "    <tr>\n",
       "      <th>1</th>\n",
       "      <td>ADHD</td>\n",
       "      <td>What have been your experiences trying LSD/tru...</td>\n",
       "      <td>[removed]</td>\n",
       "      <td>1635429424</td>\n",
       "    </tr>\n",
       "    <tr>\n",
       "      <th>2</th>\n",
       "      <td>ADHD</td>\n",
       "      <td>Strategies</td>\n",
       "      <td>Hey Everyone \\n\\nSo for the past few days I’ve...</td>\n",
       "      <td>1635429357</td>\n",
       "    </tr>\n",
       "    <tr>\n",
       "      <th>3</th>\n",
       "      <td>ADHD</td>\n",
       "      <td>Started Straterra 5 days ago, already noticed ...</td>\n",
       "      <td>Like the title says. I finally bit the bullet ...</td>\n",
       "      <td>1635428794</td>\n",
       "    </tr>\n",
       "    <tr>\n",
       "      <th>4</th>\n",
       "      <td>ADHD</td>\n",
       "      <td>Effects of Adderall Make Me Think I Don't Actu...</td>\n",
       "      <td>So I've been taking Adderall for a little whil...</td>\n",
       "      <td>1635428534</td>\n",
       "    </tr>\n",
       "  </tbody>\n",
       "</table>\n",
       "</div>"
      ],
      "text/plain": [
       "  subreddit                                              title  \\\n",
       "0      ADHD           First time diagnosed adhd? Vyvanse 30mg.   \n",
       "1      ADHD  What have been your experiences trying LSD/tru...   \n",
       "2      ADHD                                         Strategies   \n",
       "3      ADHD  Started Straterra 5 days ago, already noticed ...   \n",
       "4      ADHD  Effects of Adderall Make Me Think I Don't Actu...   \n",
       "\n",
       "                                            selftext  created_utc  \n",
       "0  Hey friends. 25m here. Ive been recently diagn...   1635429501  \n",
       "1                                          [removed]   1635429424  \n",
       "2  Hey Everyone \\n\\nSo for the past few days I’ve...   1635429357  \n",
       "3  Like the title says. I finally bit the bullet ...   1635428794  \n",
       "4  So I've been taking Adderall for a little whil...   1635428534  "
      ]
     },
     "execution_count": 4,
     "metadata": {},
     "output_type": "execute_result"
    }
   ],
   "source": [
    "adhd.head()"
   ]
  },
  {
   "cell_type": "code",
   "execution_count": 5,
   "id": "a97f1c60",
   "metadata": {},
   "outputs": [
    {
     "data": {
      "text/html": [
       "<div>\n",
       "<style scoped>\n",
       "    .dataframe tbody tr th:only-of-type {\n",
       "        vertical-align: middle;\n",
       "    }\n",
       "\n",
       "    .dataframe tbody tr th {\n",
       "        vertical-align: top;\n",
       "    }\n",
       "\n",
       "    .dataframe thead th {\n",
       "        text-align: right;\n",
       "    }\n",
       "</style>\n",
       "<table border=\"1\" class=\"dataframe\">\n",
       "  <thead>\n",
       "    <tr style=\"text-align: right;\">\n",
       "      <th></th>\n",
       "      <th>subreddit</th>\n",
       "      <th>title</th>\n",
       "      <th>selftext</th>\n",
       "      <th>created_utc</th>\n",
       "    </tr>\n",
       "  </thead>\n",
       "  <tbody>\n",
       "    <tr>\n",
       "      <th>0</th>\n",
       "      <td>aspergers</td>\n",
       "      <td>What social thing was the hardest for you to u...</td>\n",
       "      <td>Personally I'm still figuring out that you're ...</td>\n",
       "      <td>1635429444</td>\n",
       "    </tr>\n",
       "    <tr>\n",
       "      <th>1</th>\n",
       "      <td>aspergers</td>\n",
       "      <td>Winnipeg man found with illegal firearms diagn...</td>\n",
       "      <td>Judge gives man conditional sentence, says he'...</td>\n",
       "      <td>1635428083</td>\n",
       "    </tr>\n",
       "    <tr>\n",
       "      <th>2</th>\n",
       "      <td>aspergers</td>\n",
       "      <td>Typhon Mind - a new project of mine - a deep d...</td>\n",
       "      <td>[removed]</td>\n",
       "      <td>1635427450</td>\n",
       "    </tr>\n",
       "    <tr>\n",
       "      <th>3</th>\n",
       "      <td>aspergers</td>\n",
       "      <td>How do i know if I'm autistic?</td>\n",
       "      <td>\\n\\nHi, so let me start off by apologizing fo...</td>\n",
       "      <td>1635426591</td>\n",
       "    </tr>\n",
       "    <tr>\n",
       "      <th>4</th>\n",
       "      <td>aspergers</td>\n",
       "      <td>I applied to work at a small movie theater</td>\n",
       "      <td>The idea of jobs alone stress me out and I was...</td>\n",
       "      <td>1635424264</td>\n",
       "    </tr>\n",
       "  </tbody>\n",
       "</table>\n",
       "</div>"
      ],
      "text/plain": [
       "   subreddit                                              title  \\\n",
       "0  aspergers  What social thing was the hardest for you to u...   \n",
       "1  aspergers  Winnipeg man found with illegal firearms diagn...   \n",
       "2  aspergers  Typhon Mind - a new project of mine - a deep d...   \n",
       "3  aspergers                     How do i know if I'm autistic?   \n",
       "4  aspergers         I applied to work at a small movie theater   \n",
       "\n",
       "                                            selftext  created_utc  \n",
       "0  Personally I'm still figuring out that you're ...   1635429444  \n",
       "1  Judge gives man conditional sentence, says he'...   1635428083  \n",
       "2                                          [removed]   1635427450  \n",
       "3   \\n\\nHi, so let me start off by apologizing fo...   1635426591  \n",
       "4  The idea of jobs alone stress me out and I was...   1635424264  "
      ]
     },
     "execution_count": 5,
     "metadata": {},
     "output_type": "execute_result"
    }
   ],
   "source": [
    "autism.head()"
   ]
  },
  {
   "cell_type": "code",
   "execution_count": 6,
   "id": "991a8521",
   "metadata": {},
   "outputs": [
    {
     "data": {
      "text/html": [
       "<div>\n",
       "<style scoped>\n",
       "    .dataframe tbody tr th:only-of-type {\n",
       "        vertical-align: middle;\n",
       "    }\n",
       "\n",
       "    .dataframe tbody tr th {\n",
       "        vertical-align: top;\n",
       "    }\n",
       "\n",
       "    .dataframe thead th {\n",
       "        text-align: right;\n",
       "    }\n",
       "</style>\n",
       "<table border=\"1\" class=\"dataframe\">\n",
       "  <thead>\n",
       "    <tr style=\"text-align: right;\">\n",
       "      <th></th>\n",
       "      <th>subreddit</th>\n",
       "      <th>title</th>\n",
       "      <th>selftext</th>\n",
       "      <th>created_utc</th>\n",
       "    </tr>\n",
       "  </thead>\n",
       "  <tbody>\n",
       "    <tr>\n",
       "      <th>0</th>\n",
       "      <td>depression</td>\n",
       "      <td>Should I stop medical school?</td>\n",
       "      <td>I have been having multiple episodes of mania ...</td>\n",
       "      <td>1635429540</td>\n",
       "    </tr>\n",
       "    <tr>\n",
       "      <th>1</th>\n",
       "      <td>depression</td>\n",
       "      <td>Being a gay teen</td>\n",
       "      <td>I don’t know where to start with this so I’ll ...</td>\n",
       "      <td>1635429342</td>\n",
       "    </tr>\n",
       "    <tr>\n",
       "      <th>2</th>\n",
       "      <td>depression</td>\n",
       "      <td>Here but should not be</td>\n",
       "      <td>I sometimes think that things are going wrong ...</td>\n",
       "      <td>1635429084</td>\n",
       "    </tr>\n",
       "    <tr>\n",
       "      <th>3</th>\n",
       "      <td>depression</td>\n",
       "      <td>I literally can't go on like this anymore</td>\n",
       "      <td>Most of the days are nothing but stress and  o...</td>\n",
       "      <td>1635428969</td>\n",
       "    </tr>\n",
       "    <tr>\n",
       "      <th>4</th>\n",
       "      <td>depression</td>\n",
       "      <td>Hehe</td>\n",
       "      <td>Drinking helps pass time and (fortunately) giv...</td>\n",
       "      <td>1635428502</td>\n",
       "    </tr>\n",
       "  </tbody>\n",
       "</table>\n",
       "</div>"
      ],
      "text/plain": [
       "    subreddit                                      title  \\\n",
       "0  depression              Should I stop medical school?   \n",
       "1  depression                           Being a gay teen   \n",
       "2  depression                     Here but should not be   \n",
       "3  depression  I literally can't go on like this anymore   \n",
       "4  depression                                       Hehe   \n",
       "\n",
       "                                            selftext  created_utc  \n",
       "0  I have been having multiple episodes of mania ...   1635429540  \n",
       "1  I don’t know where to start with this so I’ll ...   1635429342  \n",
       "2  I sometimes think that things are going wrong ...   1635429084  \n",
       "3  Most of the days are nothing but stress and  o...   1635428969  \n",
       "4  Drinking helps pass time and (fortunately) giv...   1635428502  "
      ]
     },
     "execution_count": 6,
     "metadata": {},
     "output_type": "execute_result"
    }
   ],
   "source": [
    "depression.head()"
   ]
  },
  {
   "cell_type": "code",
   "execution_count": 7,
   "id": "8c8784ec",
   "metadata": {},
   "outputs": [
    {
     "name": "stdout",
     "output_type": "stream",
     "text": [
      "<class 'pandas.core.frame.DataFrame'>\n",
      "RangeIndex: 2000 entries, 0 to 1999\n",
      "Data columns (total 4 columns):\n",
      " #   Column       Non-Null Count  Dtype \n",
      "---  ------       --------------  ----- \n",
      " 0   subreddit    2000 non-null   object\n",
      " 1   title        2000 non-null   object\n",
      " 2   selftext     1922 non-null   object\n",
      " 3   created_utc  2000 non-null   int64 \n",
      "dtypes: int64(1), object(3)\n",
      "memory usage: 62.6+ KB\n"
     ]
    }
   ],
   "source": [
    "anxiety.info()"
   ]
  },
  {
   "cell_type": "code",
   "execution_count": 8,
   "id": "f59b8cbd",
   "metadata": {},
   "outputs": [
    {
     "name": "stdout",
     "output_type": "stream",
     "text": [
      "<class 'pandas.core.frame.DataFrame'>\n",
      "RangeIndex: 1999 entries, 0 to 1998\n",
      "Data columns (total 4 columns):\n",
      " #   Column       Non-Null Count  Dtype \n",
      "---  ------       --------------  ----- \n",
      " 0   subreddit    1999 non-null   object\n",
      " 1   title        1999 non-null   object\n",
      " 2   selftext     1999 non-null   object\n",
      " 3   created_utc  1999 non-null   int64 \n",
      "dtypes: int64(1), object(3)\n",
      "memory usage: 62.6+ KB\n"
     ]
    }
   ],
   "source": [
    "adhd.info()"
   ]
  },
  {
   "cell_type": "code",
   "execution_count": 9,
   "id": "8714e57d",
   "metadata": {},
   "outputs": [
    {
     "name": "stdout",
     "output_type": "stream",
     "text": [
      "<class 'pandas.core.frame.DataFrame'>\n",
      "RangeIndex: 2000 entries, 0 to 1999\n",
      "Data columns (total 4 columns):\n",
      " #   Column       Non-Null Count  Dtype \n",
      "---  ------       --------------  ----- \n",
      " 0   subreddit    2000 non-null   object\n",
      " 1   title        2000 non-null   object\n",
      " 2   selftext     1909 non-null   object\n",
      " 3   created_utc  2000 non-null   int64 \n",
      "dtypes: int64(1), object(3)\n",
      "memory usage: 62.6+ KB\n"
     ]
    }
   ],
   "source": [
    "autism.info()"
   ]
  },
  {
   "cell_type": "code",
   "execution_count": 10,
   "id": "678896ff",
   "metadata": {},
   "outputs": [
    {
     "name": "stdout",
     "output_type": "stream",
     "text": [
      "<class 'pandas.core.frame.DataFrame'>\n",
      "RangeIndex: 2000 entries, 0 to 1999\n",
      "Data columns (total 4 columns):\n",
      " #   Column       Non-Null Count  Dtype \n",
      "---  ------       --------------  ----- \n",
      " 0   subreddit    2000 non-null   object\n",
      " 1   title        2000 non-null   object\n",
      " 2   selftext     1999 non-null   object\n",
      " 3   created_utc  2000 non-null   int64 \n",
      "dtypes: int64(1), object(3)\n",
      "memory usage: 62.6+ KB\n"
     ]
    }
   ],
   "source": [
    "depression.info()"
   ]
  },
  {
   "cell_type": "code",
   "execution_count": 11,
   "id": "accbfc9f",
   "metadata": {},
   "outputs": [],
   "source": [
    "def gone_posts(x):\n",
    "    if x == '[removed]':\n",
    "        return np.nan\n",
    "    elif x == '[deleted]':\n",
    "        return np.nan\n",
    "    else:\n",
    "        return x"
   ]
  },
  {
   "cell_type": "code",
   "execution_count": 12,
   "id": "99b4e95d",
   "metadata": {},
   "outputs": [],
   "source": [
    "anxiety['selftext'] = anxiety['selftext'].map(gone_posts)\n",
    "depression['selftext'] = depression['selftext'].map(gone_posts)\n",
    "adhd['selftext'] = adhd['selftext'].map(gone_posts)\n",
    "autism['selftext'] = autism['selftext'].map(gone_posts)"
   ]
  },
  {
   "cell_type": "code",
   "execution_count": 13,
   "id": "97200018",
   "metadata": {},
   "outputs": [],
   "source": [
    "anxiety.dropna(inplace = True)\n",
    "adhd.dropna(inplace = True)\n",
    "autism.dropna(inplace = True)\n",
    "depression.dropna(inplace = True)"
   ]
  },
  {
   "cell_type": "code",
   "execution_count": 14,
   "id": "5bc62428",
   "metadata": {
    "scrolled": true
   },
   "outputs": [
    {
     "data": {
      "text/plain": [
       "((1844, 4), (1509, 4), (1329, 4), (1663, 4))"
      ]
     },
     "execution_count": 14,
     "metadata": {},
     "output_type": "execute_result"
    }
   ],
   "source": [
    "anxiety.shape, adhd.shape, autism.shape, depression.shape"
   ]
  },
  {
   "cell_type": "markdown",
   "id": "3971d5ca",
   "metadata": {},
   "source": [
    "I removed links and line breaks from the dataframes. Then I combined the title and selftext columns so there was only one column for text. "
   ]
  },
  {
   "cell_type": "code",
   "execution_count": 15,
   "id": "769e874a",
   "metadata": {},
   "outputs": [],
   "source": [
    "anxiety['selftext'] = anxiety['selftext'].replace('http\\S+', '', regex=True).replace('www\\S+', '', regex=True).replace('\\n\\n\\S+', '', regex=True).replace('\\n|S+', '', regex = True)\n",
    "adhd['selftext'] = adhd['selftext'].replace('http\\S+', '', regex=True).replace('www\\S+', '', regex=True).replace('\\n\\n\\S+', '', regex=True).replace('\\n|S+', '', regex = True)\n",
    "autism['selftext'] = autism['selftext'].replace('http\\S+', '', regex=True).replace('www\\S+', '', regex=True).replace('\\n\\n\\S+', '', regex=True).replace('\\n|S+', '', regex = True)\n",
    "depression['selftext'] = depression['selftext'].replace('http\\S+', '', regex=True).replace('www\\S+', '', regex=True).replace('\\n\\n\\S+', '', regex=True).replace('\\n|S+', '', regex = True)"
   ]
  },
  {
   "cell_type": "code",
   "execution_count": 16,
   "id": "16e51b17",
   "metadata": {},
   "outputs": [],
   "source": [
    "anxiety['selftext'] = anxiety['selftext'] + anxiety['title']\n",
    "anxiety.drop(columns = 'title', inplace = True)\n",
    "adhd['selftext'] = adhd['selftext'] + adhd['title']\n",
    "adhd.drop(columns = 'title', inplace = True)\n",
    "autism['selftext'] = autism['selftext'] + autism['title']\n",
    "autism.drop(columns = 'title', inplace = True)\n",
    "depression['selftext'] = depression['selftext'] + depression['title']\n",
    "depression.drop(columns = 'title', inplace = True)"
   ]
  },
  {
   "cell_type": "markdown",
   "id": "2466f170",
   "metadata": {},
   "source": [
    "## EDA\n",
    "\n",
    "#### Post Length\n",
    "\n",
    "I wanted to see how long the posts were and whether they varied between subreddits, so I created a column for `word count` and `length` (character count). There were some differences, but nothing that was particularly compelling. All the subreddits had a mean post length between 162-206 words. \n",
    "\n",
    "Looking at various plots of post length, all four subreddits had similar distributions, minimums and maximums. Therefore, I decided not to remove any outliers for length, with one exception: one of the posts from the ADHD subreddit was 36,598 characters. CSV files can accept a maximum of 32,767 per \"cell,\" so I removed any posts longer than that. "
   ]
  },
  {
   "cell_type": "code",
   "execution_count": 17,
   "id": "e83c4bc4",
   "metadata": {},
   "outputs": [],
   "source": [
    "def word_count(post):\n",
    "    return len(post.split())"
   ]
  },
  {
   "cell_type": "code",
   "execution_count": 18,
   "id": "e7a32d20",
   "metadata": {},
   "outputs": [],
   "source": [
    "anxiety['length'] = anxiety['selftext'].map(len)\n",
    "anxiety['word_count'] = anxiety['selftext'].map(word_count)\n",
    "autism['length'] = autism['selftext'].map(len)\n",
    "autism['word_count'] = autism['selftext'].map(word_count)\n",
    "adhd['length'] = adhd['selftext'].map(len)\n",
    "adhd['word_count'] = adhd['selftext'].map(word_count)\n",
    "depression['length'] = depression['selftext'].map(len)\n",
    "depression['word_count'] = depression['selftext'].map(word_count)"
   ]
  },
  {
   "cell_type": "code",
   "execution_count": 19,
   "id": "00dfd963",
   "metadata": {},
   "outputs": [
    {
     "data": {
      "text/html": [
       "<div>\n",
       "<style scoped>\n",
       "    .dataframe tbody tr th:only-of-type {\n",
       "        vertical-align: middle;\n",
       "    }\n",
       "\n",
       "    .dataframe tbody tr th {\n",
       "        vertical-align: top;\n",
       "    }\n",
       "\n",
       "    .dataframe thead th {\n",
       "        text-align: right;\n",
       "    }\n",
       "</style>\n",
       "<table border=\"1\" class=\"dataframe\">\n",
       "  <thead>\n",
       "    <tr style=\"text-align: right;\">\n",
       "      <th></th>\n",
       "      <th>created_utc</th>\n",
       "      <th>length</th>\n",
       "      <th>word_count</th>\n",
       "    </tr>\n",
       "  </thead>\n",
       "  <tbody>\n",
       "    <tr>\n",
       "      <th>count</th>\n",
       "      <td>1.844000e+03</td>\n",
       "      <td>1844.000000</td>\n",
       "      <td>1844.000000</td>\n",
       "    </tr>\n",
       "    <tr>\n",
       "      <th>mean</th>\n",
       "      <td>1.635081e+09</td>\n",
       "      <td>858.508677</td>\n",
       "      <td>162.543384</td>\n",
       "    </tr>\n",
       "    <tr>\n",
       "      <th>std</th>\n",
       "      <td>2.011243e+05</td>\n",
       "      <td>827.896510</td>\n",
       "      <td>156.847583</td>\n",
       "    </tr>\n",
       "    <tr>\n",
       "      <th>min</th>\n",
       "      <td>1.634735e+09</td>\n",
       "      <td>28.000000</td>\n",
       "      <td>3.000000</td>\n",
       "    </tr>\n",
       "    <tr>\n",
       "      <th>25%</th>\n",
       "      <td>1.634905e+09</td>\n",
       "      <td>382.750000</td>\n",
       "      <td>71.000000</td>\n",
       "    </tr>\n",
       "    <tr>\n",
       "      <th>50%</th>\n",
       "      <td>1.635096e+09</td>\n",
       "      <td>649.500000</td>\n",
       "      <td>123.500000</td>\n",
       "    </tr>\n",
       "    <tr>\n",
       "      <th>75%</th>\n",
       "      <td>1.635260e+09</td>\n",
       "      <td>1055.000000</td>\n",
       "      <td>200.000000</td>\n",
       "    </tr>\n",
       "    <tr>\n",
       "      <th>max</th>\n",
       "      <td>1.635430e+09</td>\n",
       "      <td>11229.000000</td>\n",
       "      <td>2079.000000</td>\n",
       "    </tr>\n",
       "  </tbody>\n",
       "</table>\n",
       "</div>"
      ],
      "text/plain": [
       "        created_utc        length   word_count\n",
       "count  1.844000e+03   1844.000000  1844.000000\n",
       "mean   1.635081e+09    858.508677   162.543384\n",
       "std    2.011243e+05    827.896510   156.847583\n",
       "min    1.634735e+09     28.000000     3.000000\n",
       "25%    1.634905e+09    382.750000    71.000000\n",
       "50%    1.635096e+09    649.500000   123.500000\n",
       "75%    1.635260e+09   1055.000000   200.000000\n",
       "max    1.635430e+09  11229.000000  2079.000000"
      ]
     },
     "execution_count": 19,
     "metadata": {},
     "output_type": "execute_result"
    }
   ],
   "source": [
    "anxiety.describe()"
   ]
  },
  {
   "cell_type": "code",
   "execution_count": 20,
   "id": "682f5583",
   "metadata": {},
   "outputs": [
    {
     "data": {
      "text/html": [
       "<div>\n",
       "<style scoped>\n",
       "    .dataframe tbody tr th:only-of-type {\n",
       "        vertical-align: middle;\n",
       "    }\n",
       "\n",
       "    .dataframe tbody tr th {\n",
       "        vertical-align: top;\n",
       "    }\n",
       "\n",
       "    .dataframe thead th {\n",
       "        text-align: right;\n",
       "    }\n",
       "</style>\n",
       "<table border=\"1\" class=\"dataframe\">\n",
       "  <thead>\n",
       "    <tr style=\"text-align: right;\">\n",
       "      <th></th>\n",
       "      <th>created_utc</th>\n",
       "      <th>length</th>\n",
       "      <th>word_count</th>\n",
       "    </tr>\n",
       "  </thead>\n",
       "  <tbody>\n",
       "    <tr>\n",
       "      <th>count</th>\n",
       "      <td>1.509000e+03</td>\n",
       "      <td>1509.000000</td>\n",
       "      <td>1509.000000</td>\n",
       "    </tr>\n",
       "    <tr>\n",
       "      <th>mean</th>\n",
       "      <td>1.635259e+09</td>\n",
       "      <td>1128.386349</td>\n",
       "      <td>210.532140</td>\n",
       "    </tr>\n",
       "    <tr>\n",
       "      <th>std</th>\n",
       "      <td>9.696447e+04</td>\n",
       "      <td>1163.416165</td>\n",
       "      <td>217.676094</td>\n",
       "    </tr>\n",
       "    <tr>\n",
       "      <th>min</th>\n",
       "      <td>1.635088e+09</td>\n",
       "      <td>94.000000</td>\n",
       "      <td>14.000000</td>\n",
       "    </tr>\n",
       "    <tr>\n",
       "      <th>25%</th>\n",
       "      <td>1.635179e+09</td>\n",
       "      <td>547.000000</td>\n",
       "      <td>101.000000</td>\n",
       "    </tr>\n",
       "    <tr>\n",
       "      <th>50%</th>\n",
       "      <td>1.635263e+09</td>\n",
       "      <td>823.000000</td>\n",
       "      <td>154.000000</td>\n",
       "    </tr>\n",
       "    <tr>\n",
       "      <th>75%</th>\n",
       "      <td>1.635348e+09</td>\n",
       "      <td>1310.000000</td>\n",
       "      <td>247.000000</td>\n",
       "    </tr>\n",
       "    <tr>\n",
       "      <th>max</th>\n",
       "      <td>1.635430e+09</td>\n",
       "      <td>20149.000000</td>\n",
       "      <td>3669.000000</td>\n",
       "    </tr>\n",
       "  </tbody>\n",
       "</table>\n",
       "</div>"
      ],
      "text/plain": [
       "        created_utc        length   word_count\n",
       "count  1.509000e+03   1509.000000  1509.000000\n",
       "mean   1.635259e+09   1128.386349   210.532140\n",
       "std    9.696447e+04   1163.416165   217.676094\n",
       "min    1.635088e+09     94.000000    14.000000\n",
       "25%    1.635179e+09    547.000000   101.000000\n",
       "50%    1.635263e+09    823.000000   154.000000\n",
       "75%    1.635348e+09   1310.000000   247.000000\n",
       "max    1.635430e+09  20149.000000  3669.000000"
      ]
     },
     "execution_count": 20,
     "metadata": {},
     "output_type": "execute_result"
    }
   ],
   "source": [
    "adhd.describe()"
   ]
  },
  {
   "cell_type": "code",
   "execution_count": 21,
   "id": "8dacb025",
   "metadata": {},
   "outputs": [],
   "source": [
    "adhd = adhd[adhd['length'] < 32767]"
   ]
  },
  {
   "cell_type": "code",
   "execution_count": 22,
   "id": "d1c7d22b",
   "metadata": {},
   "outputs": [
    {
     "data": {
      "text/html": [
       "<div>\n",
       "<style scoped>\n",
       "    .dataframe tbody tr th:only-of-type {\n",
       "        vertical-align: middle;\n",
       "    }\n",
       "\n",
       "    .dataframe tbody tr th {\n",
       "        vertical-align: top;\n",
       "    }\n",
       "\n",
       "    .dataframe thead th {\n",
       "        text-align: right;\n",
       "    }\n",
       "</style>\n",
       "<table border=\"1\" class=\"dataframe\">\n",
       "  <thead>\n",
       "    <tr style=\"text-align: right;\">\n",
       "      <th></th>\n",
       "      <th>created_utc</th>\n",
       "      <th>length</th>\n",
       "      <th>word_count</th>\n",
       "    </tr>\n",
       "  </thead>\n",
       "  <tbody>\n",
       "    <tr>\n",
       "      <th>count</th>\n",
       "      <td>1.509000e+03</td>\n",
       "      <td>1509.000000</td>\n",
       "      <td>1509.000000</td>\n",
       "    </tr>\n",
       "    <tr>\n",
       "      <th>mean</th>\n",
       "      <td>1.635259e+09</td>\n",
       "      <td>1128.386349</td>\n",
       "      <td>210.532140</td>\n",
       "    </tr>\n",
       "    <tr>\n",
       "      <th>std</th>\n",
       "      <td>9.696447e+04</td>\n",
       "      <td>1163.416165</td>\n",
       "      <td>217.676094</td>\n",
       "    </tr>\n",
       "    <tr>\n",
       "      <th>min</th>\n",
       "      <td>1.635088e+09</td>\n",
       "      <td>94.000000</td>\n",
       "      <td>14.000000</td>\n",
       "    </tr>\n",
       "    <tr>\n",
       "      <th>25%</th>\n",
       "      <td>1.635179e+09</td>\n",
       "      <td>547.000000</td>\n",
       "      <td>101.000000</td>\n",
       "    </tr>\n",
       "    <tr>\n",
       "      <th>50%</th>\n",
       "      <td>1.635263e+09</td>\n",
       "      <td>823.000000</td>\n",
       "      <td>154.000000</td>\n",
       "    </tr>\n",
       "    <tr>\n",
       "      <th>75%</th>\n",
       "      <td>1.635348e+09</td>\n",
       "      <td>1310.000000</td>\n",
       "      <td>247.000000</td>\n",
       "    </tr>\n",
       "    <tr>\n",
       "      <th>max</th>\n",
       "      <td>1.635430e+09</td>\n",
       "      <td>20149.000000</td>\n",
       "      <td>3669.000000</td>\n",
       "    </tr>\n",
       "  </tbody>\n",
       "</table>\n",
       "</div>"
      ],
      "text/plain": [
       "        created_utc        length   word_count\n",
       "count  1.509000e+03   1509.000000  1509.000000\n",
       "mean   1.635259e+09   1128.386349   210.532140\n",
       "std    9.696447e+04   1163.416165   217.676094\n",
       "min    1.635088e+09     94.000000    14.000000\n",
       "25%    1.635179e+09    547.000000   101.000000\n",
       "50%    1.635263e+09    823.000000   154.000000\n",
       "75%    1.635348e+09   1310.000000   247.000000\n",
       "max    1.635430e+09  20149.000000  3669.000000"
      ]
     },
     "execution_count": 22,
     "metadata": {},
     "output_type": "execute_result"
    }
   ],
   "source": [
    "adhd.describe()"
   ]
  },
  {
   "cell_type": "code",
   "execution_count": 23,
   "id": "b64198e6",
   "metadata": {},
   "outputs": [
    {
     "data": {
      "text/html": [
       "<div>\n",
       "<style scoped>\n",
       "    .dataframe tbody tr th:only-of-type {\n",
       "        vertical-align: middle;\n",
       "    }\n",
       "\n",
       "    .dataframe tbody tr th {\n",
       "        vertical-align: top;\n",
       "    }\n",
       "\n",
       "    .dataframe thead th {\n",
       "        text-align: right;\n",
       "    }\n",
       "</style>\n",
       "<table border=\"1\" class=\"dataframe\">\n",
       "  <thead>\n",
       "    <tr style=\"text-align: right;\">\n",
       "      <th></th>\n",
       "      <th>created_utc</th>\n",
       "      <th>length</th>\n",
       "      <th>word_count</th>\n",
       "    </tr>\n",
       "  </thead>\n",
       "  <tbody>\n",
       "    <tr>\n",
       "      <th>count</th>\n",
       "      <td>1.663000e+03</td>\n",
       "      <td>1663.000000</td>\n",
       "      <td>1663.000000</td>\n",
       "    </tr>\n",
       "    <tr>\n",
       "      <th>mean</th>\n",
       "      <td>1.635265e+09</td>\n",
       "      <td>906.526759</td>\n",
       "      <td>174.432351</td>\n",
       "    </tr>\n",
       "    <tr>\n",
       "      <th>std</th>\n",
       "      <td>8.958431e+04</td>\n",
       "      <td>1090.379328</td>\n",
       "      <td>211.629581</td>\n",
       "    </tr>\n",
       "    <tr>\n",
       "      <th>min</th>\n",
       "      <td>1.635118e+09</td>\n",
       "      <td>35.000000</td>\n",
       "      <td>5.000000</td>\n",
       "    </tr>\n",
       "    <tr>\n",
       "      <th>25%</th>\n",
       "      <td>1.635191e+09</td>\n",
       "      <td>310.000000</td>\n",
       "      <td>60.000000</td>\n",
       "    </tr>\n",
       "    <tr>\n",
       "      <th>50%</th>\n",
       "      <td>1.635267e+09</td>\n",
       "      <td>597.000000</td>\n",
       "      <td>116.000000</td>\n",
       "    </tr>\n",
       "    <tr>\n",
       "      <th>75%</th>\n",
       "      <td>1.635343e+09</td>\n",
       "      <td>1114.500000</td>\n",
       "      <td>212.500000</td>\n",
       "    </tr>\n",
       "    <tr>\n",
       "      <th>max</th>\n",
       "      <td>1.635430e+09</td>\n",
       "      <td>21095.000000</td>\n",
       "      <td>4246.000000</td>\n",
       "    </tr>\n",
       "  </tbody>\n",
       "</table>\n",
       "</div>"
      ],
      "text/plain": [
       "        created_utc        length   word_count\n",
       "count  1.663000e+03   1663.000000  1663.000000\n",
       "mean   1.635265e+09    906.526759   174.432351\n",
       "std    8.958431e+04   1090.379328   211.629581\n",
       "min    1.635118e+09     35.000000     5.000000\n",
       "25%    1.635191e+09    310.000000    60.000000\n",
       "50%    1.635267e+09    597.000000   116.000000\n",
       "75%    1.635343e+09   1114.500000   212.500000\n",
       "max    1.635430e+09  21095.000000  4246.000000"
      ]
     },
     "execution_count": 23,
     "metadata": {},
     "output_type": "execute_result"
    }
   ],
   "source": [
    "depression.describe()"
   ]
  },
  {
   "cell_type": "code",
   "execution_count": 24,
   "id": "0880401c",
   "metadata": {},
   "outputs": [
    {
     "data": {
      "text/html": [
       "<div>\n",
       "<style scoped>\n",
       "    .dataframe tbody tr th:only-of-type {\n",
       "        vertical-align: middle;\n",
       "    }\n",
       "\n",
       "    .dataframe tbody tr th {\n",
       "        vertical-align: top;\n",
       "    }\n",
       "\n",
       "    .dataframe thead th {\n",
       "        text-align: right;\n",
       "    }\n",
       "</style>\n",
       "<table border=\"1\" class=\"dataframe\">\n",
       "  <thead>\n",
       "    <tr style=\"text-align: right;\">\n",
       "      <th></th>\n",
       "      <th>created_utc</th>\n",
       "      <th>length</th>\n",
       "      <th>word_count</th>\n",
       "    </tr>\n",
       "  </thead>\n",
       "  <tbody>\n",
       "    <tr>\n",
       "      <th>count</th>\n",
       "      <td>1.329000e+03</td>\n",
       "      <td>1329.000000</td>\n",
       "      <td>1329.000000</td>\n",
       "    </tr>\n",
       "    <tr>\n",
       "      <th>mean</th>\n",
       "      <td>1.634243e+09</td>\n",
       "      <td>935.828442</td>\n",
       "      <td>172.690745</td>\n",
       "    </tr>\n",
       "    <tr>\n",
       "      <th>std</th>\n",
       "      <td>6.898110e+05</td>\n",
       "      <td>1078.439534</td>\n",
       "      <td>197.586331</td>\n",
       "    </tr>\n",
       "    <tr>\n",
       "      <th>min</th>\n",
       "      <td>1.632804e+09</td>\n",
       "      <td>29.000000</td>\n",
       "      <td>4.000000</td>\n",
       "    </tr>\n",
       "    <tr>\n",
       "      <th>25%</th>\n",
       "      <td>1.633726e+09</td>\n",
       "      <td>334.000000</td>\n",
       "      <td>61.000000</td>\n",
       "    </tr>\n",
       "    <tr>\n",
       "      <th>50%</th>\n",
       "      <td>1.634267e+09</td>\n",
       "      <td>625.000000</td>\n",
       "      <td>114.000000</td>\n",
       "    </tr>\n",
       "    <tr>\n",
       "      <th>75%</th>\n",
       "      <td>1.634809e+09</td>\n",
       "      <td>1138.000000</td>\n",
       "      <td>211.000000</td>\n",
       "    </tr>\n",
       "    <tr>\n",
       "      <th>max</th>\n",
       "      <td>1.635429e+09</td>\n",
       "      <td>15993.000000</td>\n",
       "      <td>2890.000000</td>\n",
       "    </tr>\n",
       "  </tbody>\n",
       "</table>\n",
       "</div>"
      ],
      "text/plain": [
       "        created_utc        length   word_count\n",
       "count  1.329000e+03   1329.000000  1329.000000\n",
       "mean   1.634243e+09    935.828442   172.690745\n",
       "std    6.898110e+05   1078.439534   197.586331\n",
       "min    1.632804e+09     29.000000     4.000000\n",
       "25%    1.633726e+09    334.000000    61.000000\n",
       "50%    1.634267e+09    625.000000   114.000000\n",
       "75%    1.634809e+09   1138.000000   211.000000\n",
       "max    1.635429e+09  15993.000000  2890.000000"
      ]
     },
     "execution_count": 24,
     "metadata": {},
     "output_type": "execute_result"
    }
   ],
   "source": [
    "autism.describe()"
   ]
  },
  {
   "cell_type": "code",
   "execution_count": 25,
   "id": "f9c9c496",
   "metadata": {},
   "outputs": [
    {
     "data": {
      "image/png": "[encoded data removed]",
      "text/plain": [
       "<Figure size 432x288 with 1 Axes>"
      ]
     },
     "metadata": {
      "needs_background": "light"
     },
     "output_type": "display_data"
    }
   ],
   "source": [
    "plt.boxplot(anxiety['word_count'], vert = False)\n",
    "plt.title('r/Anxiety Word Count Distribution');"
   ]
  },
  {
   "cell_type": "code",
   "execution_count": 26,
   "id": "381f4aef",
   "metadata": {},
   "outputs": [
    {
     "data": {
      "image/png": "[encoded data removed]",
      "text/plain": [
       "<Figure size 432x288 with 1 Axes>"
      ]
     },
     "metadata": {
      "needs_background": "light"
     },
     "output_type": "display_data"
    }
   ],
   "source": [
    "plt.boxplot(adhd['word_count'], vert = False)\n",
    "plt.title('r/ADHD Word Count Distribution');"
   ]
  },
  {
   "cell_type": "code",
   "execution_count": 27,
   "id": "f93d1662",
   "metadata": {},
   "outputs": [
    {
     "data": {
      "image/png": "[encoded data removed]",
      "text/plain": [
       "<Figure size 432x288 with 1 Axes>"
      ]
     },
     "metadata": {
      "needs_background": "light"
     },
     "output_type": "display_data"
    }
   ],
   "source": [
    "plt.boxplot(autism['word_count'], vert = False)\n",
    "plt.title('r/Aspergers Word Count Distribution');"
   ]
  },
  {
   "cell_type": "code",
   "execution_count": 28,
   "id": "a80d2e23",
   "metadata": {},
   "outputs": [
    {
     "data": {
      "image/png": "[encoded data removed]",
      "text/plain": [
       "<Figure size 432x288 with 1 Axes>"
      ]
     },
     "metadata": {
      "needs_background": "light"
     },
     "output_type": "display_data"
    }
   ],
   "source": [
    "plt.boxplot(depression['word_count'], vert = False)\n",
    "plt.title('r/Depression Word Count Distribution');"
   ]
  },
  {
   "cell_type": "markdown",
   "id": "916a4948",
   "metadata": {},
   "source": [
    "I combined all four subreddits into a single dataframe and reset the indices. The four groups in the target subreddit column are fairly even, but it will be worth stratifying when modeling. \n",
    "\n",
    "Then I looked at word count and character length overall, and the same patterns I had observed previously seemed to hold true.  "
   ]
  },
  {
   "cell_type": "code",
   "execution_count": 29,
   "id": "2cacf7e4",
   "metadata": {},
   "outputs": [],
   "source": [
    "df = pd.concat(objs = [anxiety, adhd, depression, autism])\n",
    "df.dropna(inplace = True)\n",
    "df.reset_index(drop = True, inplace = True)\n",
    "#https://pandas.pydata.org/docs/reference/api/pandas.DataFrame.reset_index.html#pandas.DataFrame.reset_index"
   ]
  },
  {
   "cell_type": "code",
   "execution_count": 30,
   "id": "fc909143",
   "metadata": {
    "scrolled": true
   },
   "outputs": [
    {
     "data": {
      "text/html": [
       "<div>\n",
       "<style scoped>\n",
       "    .dataframe tbody tr th:only-of-type {\n",
       "        vertical-align: middle;\n",
       "    }\n",
       "\n",
       "    .dataframe tbody tr th {\n",
       "        vertical-align: top;\n",
       "    }\n",
       "\n",
       "    .dataframe thead th {\n",
       "        text-align: right;\n",
       "    }\n",
       "</style>\n",
       "<table border=\"1\" class=\"dataframe\">\n",
       "  <thead>\n",
       "    <tr style=\"text-align: right;\">\n",
       "      <th></th>\n",
       "      <th>created_utc</th>\n",
       "      <th>length</th>\n",
       "      <th>word_count</th>\n",
       "    </tr>\n",
       "  </thead>\n",
       "  <tbody>\n",
       "    <tr>\n",
       "      <th>count</th>\n",
       "      <td>6.345000e+03</td>\n",
       "      <td>6345.000000</td>\n",
       "      <td>6345.000000</td>\n",
       "    </tr>\n",
       "    <tr>\n",
       "      <th>mean</th>\n",
       "      <td>1.634996e+09</td>\n",
       "      <td>951.472813</td>\n",
       "      <td>179.197794</td>\n",
       "    </tr>\n",
       "    <tr>\n",
       "      <th>std</th>\n",
       "      <td>5.214436e+05</td>\n",
       "      <td>1042.273494</td>\n",
       "      <td>196.582626</td>\n",
       "    </tr>\n",
       "    <tr>\n",
       "      <th>min</th>\n",
       "      <td>1.632804e+09</td>\n",
       "      <td>28.000000</td>\n",
       "      <td>3.000000</td>\n",
       "    </tr>\n",
       "    <tr>\n",
       "      <th>25%</th>\n",
       "      <td>1.634926e+09</td>\n",
       "      <td>397.000000</td>\n",
       "      <td>74.000000</td>\n",
       "    </tr>\n",
       "    <tr>\n",
       "      <th>50%</th>\n",
       "      <td>1.635185e+09</td>\n",
       "      <td>677.000000</td>\n",
       "      <td>127.000000</td>\n",
       "    </tr>\n",
       "    <tr>\n",
       "      <th>75%</th>\n",
       "      <td>1.635298e+09</td>\n",
       "      <td>1157.000000</td>\n",
       "      <td>219.000000</td>\n",
       "    </tr>\n",
       "    <tr>\n",
       "      <th>max</th>\n",
       "      <td>1.635430e+09</td>\n",
       "      <td>21095.000000</td>\n",
       "      <td>4246.000000</td>\n",
       "    </tr>\n",
       "  </tbody>\n",
       "</table>\n",
       "</div>"
      ],
      "text/plain": [
       "        created_utc        length   word_count\n",
       "count  6.345000e+03   6345.000000  6345.000000\n",
       "mean   1.634996e+09    951.472813   179.197794\n",
       "std    5.214436e+05   1042.273494   196.582626\n",
       "min    1.632804e+09     28.000000     3.000000\n",
       "25%    1.634926e+09    397.000000    74.000000\n",
       "50%    1.635185e+09    677.000000   127.000000\n",
       "75%    1.635298e+09   1157.000000   219.000000\n",
       "max    1.635430e+09  21095.000000  4246.000000"
      ]
     },
     "execution_count": 30,
     "metadata": {},
     "output_type": "execute_result"
    }
   ],
   "source": [
    "df.describe()"
   ]
  },
  {
   "cell_type": "code",
   "execution_count": 31,
   "id": "1d4d9ecc",
   "metadata": {},
   "outputs": [
    {
     "data": {
      "text/plain": [
       "Anxiety       0.290623\n",
       "depression    0.262096\n",
       "ADHD          0.237825\n",
       "aspergers     0.209456\n",
       "Name: subreddit, dtype: float64"
      ]
     },
     "execution_count": 31,
     "metadata": {},
     "output_type": "execute_result"
    }
   ],
   "source": [
    "#Baseline\n",
    "df['subreddit'].value_counts(normalize = True)"
   ]
  },
  {
   "cell_type": "code",
   "execution_count": 32,
   "id": "2952c347",
   "metadata": {
    "scrolled": false
   },
   "outputs": [
    {
     "data": {
      "image/png": "[encoded data removed]",
      "text/plain": [
       "<Figure size 954.5x432 with 1 Axes>"
      ]
     },
     "metadata": {
      "needs_background": "light"
     },
     "output_type": "display_data"
    }
   ],
   "source": [
    "sns.displot(data = df, x = df['word_count'], hue = df['subreddit'], kind = 'kde',\n",
    "           height = 6, aspect = 2)\n",
    "plt.title('Distribution of post length on each subreddit');"
   ]
  },
  {
   "cell_type": "markdown",
   "id": "3b8e786a",
   "metadata": {},
   "source": [
    "#### Top Words\n",
    "\n",
    "Using CountVectorizer, I took a look at the most common words in each subreddit and for the entire dataset. Based on these top word lists, I was satisfied that I had gotten the type of posts that I was looking for: posts about people's lives, wants, feelings, etc. \n",
    "\n",
    "I noticed a few other things that I made decisions about when it came to modeling:\n",
    "- There are still some non-content words or partial words making it through the standard English stop words. I decided to add some custom stop words before modeling. \n",
    "- In some of the subreddits, the name of the condition is one of the most common words. \"Anxiety\" is in the top 10 overall. I thought about adding these terms to the stop words as well, but chose not to for a couple of reasons:\n",
    " - Some words, such as \"anxious\" and \"depressed\" are common words that every person might use to describe their mental state from time to time. \n",
    " - Since the point of the models is to try to disentangle complicated interactions between different conditions, it would be more realistic to leave the names of conditions in the data. People might describe parts of their experience in one subreddit that would be equally at home in one of the other subreddits. "
   ]
  },
  {
   "cell_type": "code",
   "execution_count": 33,
   "id": "71b7c6b5",
   "metadata": {},
   "outputs": [],
   "source": [
    "from sklearn.feature_extraction.text import CountVectorizer\n",
    "cvec = CountVectorizer(stop_words = 'english')\n",
    "cvecx = cvec.fit_transform(anxiety['selftext'])\n",
    "cvecx_df = pd.DataFrame(cvecx.todense(), columns=cvec.get_feature_names())\n",
    "cveca = cvec.fit_transform(adhd['selftext'])\n",
    "cveca_df = pd.DataFrame(cveca.todense(), columns=cvec.get_feature_names())\n",
    "cvecd = cvec.fit_transform(depression['selftext'])\n",
    "cvecd_df = pd.DataFrame(cvecd.todense(), columns=cvec.get_feature_names())\n",
    "cvect = cvec.fit_transform(autism['selftext'])\n",
    "cvect_df = pd.DataFrame(cvect.todense(), columns=cvec.get_feature_names())\n",
    "cvec_all = cvec.fit_transform(df['selftext'])\n",
    "cvec_all_df = pd.DataFrame(cvec_all.todense(), columns=cvec.get_feature_names())"
   ]
  },
  {
   "cell_type": "code",
   "execution_count": 34,
   "id": "78d9f0a4",
   "metadata": {},
   "outputs": [
    {
     "data": {
      "image/png": "[encoded data removed]",
      "text/plain": [
       "<Figure size 432x288 with 1 Axes>"
      ]
     },
     "metadata": {
      "needs_background": "light"
     },
     "output_type": "display_data"
    }
   ],
   "source": [
    "cvecx_df.sum().sort_values(ascending = False).head(10).plot(kind = 'barh')\n",
    "plt.title('Top 10 Words - rAnxiety');"
   ]
  },
  {
   "cell_type": "code",
   "execution_count": 35,
   "id": "3686f97f",
   "metadata": {},
   "outputs": [
    {
     "data": {
      "image/png": "[encoded data removed]",
      "text/plain": [
       "<Figure size 432x288 with 1 Axes>"
      ]
     },
     "metadata": {
      "needs_background": "light"
     },
     "output_type": "display_data"
    }
   ],
   "source": [
    "cveca_df.sum().sort_values(ascending = False).head(10).plot(kind = 'barh')\n",
    "plt.title('Top 10 Words - r/ADHD');"
   ]
  },
  {
   "cell_type": "code",
   "execution_count": 36,
   "id": "340d571e",
   "metadata": {},
   "outputs": [
    {
     "data": {
      "image/png": "[encoded data removed]",
      "text/plain": [
       "<Figure size 432x288 with 1 Axes>"
      ]
     },
     "metadata": {
      "needs_background": "light"
     },
     "output_type": "display_data"
    }
   ],
   "source": [
    "cvect_df.sum().sort_values(ascending = False).head(10).plot(kind = 'barh')\n",
    "plt.title('Top 10 Words - r/Aspergers');"
   ]
  },
  {
   "cell_type": "code",
   "execution_count": 37,
   "id": "967f0ec0",
   "metadata": {},
   "outputs": [
    {
     "data": {
      "image/png": "[encoded data removed]",
      "text/plain": [
       "<Figure size 432x288 with 1 Axes>"
      ]
     },
     "metadata": {
      "needs_background": "light"
     },
     "output_type": "display_data"
    }
   ],
   "source": [
    "cvecd_df.sum().sort_values(ascending = False).head(10).plot(kind = 'barh')\n",
    "plt.title('Top 10 Words - r/depression');"
   ]
  },
  {
   "cell_type": "code",
   "execution_count": 38,
   "id": "fc915c75",
   "metadata": {},
   "outputs": [
    {
     "data": {
      "image/png": "[encoded data removed]",
      "text/plain": [
       "<Figure size 432x288 with 1 Axes>"
      ]
     },
     "metadata": {
      "needs_background": "light"
     },
     "output_type": "display_data"
    }
   ],
   "source": [
    "cvec_all_df.sum().sort_values(ascending = False).head(10).plot(kind = 'barh')\n",
    "plt.title('Top 10 Words Overall');"
   ]
  },
  {
   "cell_type": "markdown",
   "id": "0ab83eef",
   "metadata": {},
   "source": [
    "#### Sentiment Analysis\n",
    "\n",
    "Given the topic, emotional inflection of a post is extremely relevant to this dataset. I did a basic sentiment analysis and looked at each subreddit as well as the overall data. \n",
    "\n",
    "A couple of trends worth noting:\n",
    "- The anxiety and depression subreddits are much more negative than the ADHD and autism subreddits. \n",
    "- The neutral and positive mean scores are relatively close across the subreddits, but the range of positive scores is quite a bit lower for the ADHD posts. This suggests that the ADHD community may be less focused on emotions than the other communities. \n"
   ]
  },
  {
   "cell_type": "code",
   "execution_count": 39,
   "id": "643aaf12",
   "metadata": {},
   "outputs": [],
   "source": [
    "corpus = list(df['selftext'])\n",
    "sia = SentimentIntensityAnalyzer()\n",
    "\n",
    "sentiments = []\n",
    "\n",
    "for post in corpus:\n",
    "    scores = sia.polarity_scores(post)\n",
    "    scores['selftext'] = post\n",
    "    sentiments.append(scores)\n",
    "    "
   ]
  },
  {
   "cell_type": "code",
   "execution_count": 40,
   "id": "da577b59",
   "metadata": {},
   "outputs": [],
   "source": [
    "sia_df = pd.DataFrame(sentiments)\n",
    "sia_df['subreddit'] = df['subreddit']\n",
    "\n",
    "df['compound'] = sia_df['compound']"
   ]
  },
  {
   "cell_type": "code",
   "execution_count": 41,
   "id": "23e91957",
   "metadata": {},
   "outputs": [
    {
     "data": {
      "text/html": [
       "<div>\n",
       "<style scoped>\n",
       "    .dataframe tbody tr th:only-of-type {\n",
       "        vertical-align: middle;\n",
       "    }\n",
       "\n",
       "    .dataframe tbody tr th {\n",
       "        vertical-align: top;\n",
       "    }\n",
       "\n",
       "    .dataframe thead th {\n",
       "        text-align: right;\n",
       "    }\n",
       "</style>\n",
       "<table border=\"1\" class=\"dataframe\">\n",
       "  <thead>\n",
       "    <tr style=\"text-align: right;\">\n",
       "      <th></th>\n",
       "      <th>neg</th>\n",
       "      <th>neu</th>\n",
       "      <th>pos</th>\n",
       "      <th>compound</th>\n",
       "      <th>selftext</th>\n",
       "      <th>subreddit</th>\n",
       "    </tr>\n",
       "  </thead>\n",
       "  <tbody>\n",
       "    <tr>\n",
       "      <th>0</th>\n",
       "      <td>0.000</td>\n",
       "      <td>0.864</td>\n",
       "      <td>0.136</td>\n",
       "      <td>0.4588</td>\n",
       "      <td>Available most of the time. 24M.If you're look...</td>\n",
       "      <td>Anxiety</td>\n",
       "    </tr>\n",
       "    <tr>\n",
       "      <th>1</th>\n",
       "      <td>0.133</td>\n",
       "      <td>0.819</td>\n",
       "      <td>0.048</td>\n",
       "      <td>-0.9260</td>\n",
       "      <td>I have a lot of things that trigger my anxiety...</td>\n",
       "      <td>Anxiety</td>\n",
       "    </tr>\n",
       "    <tr>\n",
       "      <th>2</th>\n",
       "      <td>0.051</td>\n",
       "      <td>0.800</td>\n",
       "      <td>0.149</td>\n",
       "      <td>0.9110</td>\n",
       "      <td>I interviewed for a company and I really like ...</td>\n",
       "      <td>Anxiety</td>\n",
       "    </tr>\n",
       "    <tr>\n",
       "      <th>3</th>\n",
       "      <td>0.118</td>\n",
       "      <td>0.815</td>\n",
       "      <td>0.067</td>\n",
       "      <td>-0.9755</td>\n",
       "      <td>What kind of physical symptoms do you experien...</td>\n",
       "      <td>Anxiety</td>\n",
       "    </tr>\n",
       "    <tr>\n",
       "      <th>4</th>\n",
       "      <td>0.147</td>\n",
       "      <td>0.736</td>\n",
       "      <td>0.117</td>\n",
       "      <td>-0.4125</td>\n",
       "      <td>Anxiety, it doesn’t matter what you do, I’m no...</td>\n",
       "      <td>Anxiety</td>\n",
       "    </tr>\n",
       "  </tbody>\n",
       "</table>\n",
       "</div>"
      ],
      "text/plain": [
       "     neg    neu    pos  compound  \\\n",
       "0  0.000  0.864  0.136    0.4588   \n",
       "1  0.133  0.819  0.048   -0.9260   \n",
       "2  0.051  0.800  0.149    0.9110   \n",
       "3  0.118  0.815  0.067   -0.9755   \n",
       "4  0.147  0.736  0.117   -0.4125   \n",
       "\n",
       "                                            selftext subreddit  \n",
       "0  Available most of the time. 24M.If you're look...   Anxiety  \n",
       "1  I have a lot of things that trigger my anxiety...   Anxiety  \n",
       "2  I interviewed for a company and I really like ...   Anxiety  \n",
       "3  What kind of physical symptoms do you experien...   Anxiety  \n",
       "4  Anxiety, it doesn’t matter what you do, I’m no...   Anxiety  "
      ]
     },
     "execution_count": 41,
     "metadata": {},
     "output_type": "execute_result"
    }
   ],
   "source": [
    "sia_df.head()"
   ]
  },
  {
   "cell_type": "code",
   "execution_count": 42,
   "id": "6d92f594",
   "metadata": {},
   "outputs": [
    {
     "data": {
      "text/html": [
       "<div>\n",
       "<style scoped>\n",
       "    .dataframe tbody tr th:only-of-type {\n",
       "        vertical-align: middle;\n",
       "    }\n",
       "\n",
       "    .dataframe tbody tr th {\n",
       "        vertical-align: top;\n",
       "    }\n",
       "\n",
       "    .dataframe thead th {\n",
       "        text-align: right;\n",
       "    }\n",
       "</style>\n",
       "<table border=\"1\" class=\"dataframe\">\n",
       "  <thead>\n",
       "    <tr style=\"text-align: right;\">\n",
       "      <th></th>\n",
       "      <th>count</th>\n",
       "      <th>mean</th>\n",
       "      <th>std</th>\n",
       "      <th>min</th>\n",
       "      <th>25%</th>\n",
       "      <th>50%</th>\n",
       "      <th>75%</th>\n",
       "      <th>max</th>\n",
       "    </tr>\n",
       "    <tr>\n",
       "      <th>subreddit</th>\n",
       "      <th></th>\n",
       "      <th></th>\n",
       "      <th></th>\n",
       "      <th></th>\n",
       "      <th></th>\n",
       "      <th></th>\n",
       "      <th></th>\n",
       "      <th></th>\n",
       "    </tr>\n",
       "  </thead>\n",
       "  <tbody>\n",
       "    <tr>\n",
       "      <th>ADHD</th>\n",
       "      <td>1509.0</td>\n",
       "      <td>0.074265</td>\n",
       "      <td>0.789992</td>\n",
       "      <td>-0.9988</td>\n",
       "      <td>-0.81480</td>\n",
       "      <td>0.2942</td>\n",
       "      <td>0.879300</td>\n",
       "      <td>0.9994</td>\n",
       "    </tr>\n",
       "    <tr>\n",
       "      <th>Anxiety</th>\n",
       "      <td>1844.0</td>\n",
       "      <td>-0.343511</td>\n",
       "      <td>0.726570</td>\n",
       "      <td>-0.9994</td>\n",
       "      <td>-0.94855</td>\n",
       "      <td>-0.7358</td>\n",
       "      <td>0.316275</td>\n",
       "      <td>0.9981</td>\n",
       "    </tr>\n",
       "    <tr>\n",
       "      <th>aspergers</th>\n",
       "      <td>1329.0</td>\n",
       "      <td>0.091320</td>\n",
       "      <td>0.762359</td>\n",
       "      <td>-0.9999</td>\n",
       "      <td>-0.74690</td>\n",
       "      <td>0.2418</td>\n",
       "      <td>0.863600</td>\n",
       "      <td>0.9997</td>\n",
       "    </tr>\n",
       "    <tr>\n",
       "      <th>depression</th>\n",
       "      <td>1663.0</td>\n",
       "      <td>-0.310435</td>\n",
       "      <td>0.742691</td>\n",
       "      <td>-0.9996</td>\n",
       "      <td>-0.95490</td>\n",
       "      <td>-0.7071</td>\n",
       "      <td>0.401900</td>\n",
       "      <td>0.9993</td>\n",
       "    </tr>\n",
       "  </tbody>\n",
       "</table>\n",
       "</div>"
      ],
      "text/plain": [
       "             count      mean       std     min      25%     50%       75%  \\\n",
       "subreddit                                                                   \n",
       "ADHD        1509.0  0.074265  0.789992 -0.9988 -0.81480  0.2942  0.879300   \n",
       "Anxiety     1844.0 -0.343511  0.726570 -0.9994 -0.94855 -0.7358  0.316275   \n",
       "aspergers   1329.0  0.091320  0.762359 -0.9999 -0.74690  0.2418  0.863600   \n",
       "depression  1663.0 -0.310435  0.742691 -0.9996 -0.95490 -0.7071  0.401900   \n",
       "\n",
       "               max  \n",
       "subreddit           \n",
       "ADHD        0.9994  \n",
       "Anxiety     0.9981  \n",
       "aspergers   0.9997  \n",
       "depression  0.9993  "
      ]
     },
     "execution_count": 42,
     "metadata": {},
     "output_type": "execute_result"
    }
   ],
   "source": [
    "sia_df.groupby('subreddit')['compound'].describe()"
   ]
  },
  {
   "cell_type": "code",
   "execution_count": 43,
   "id": "7b5bed1d",
   "metadata": {},
   "outputs": [
    {
     "data": {
      "text/html": [
       "<div>\n",
       "<style scoped>\n",
       "    .dataframe tbody tr th:only-of-type {\n",
       "        vertical-align: middle;\n",
       "    }\n",
       "\n",
       "    .dataframe tbody tr th {\n",
       "        vertical-align: top;\n",
       "    }\n",
       "\n",
       "    .dataframe thead th {\n",
       "        text-align: right;\n",
       "    }\n",
       "</style>\n",
       "<table border=\"1\" class=\"dataframe\">\n",
       "  <thead>\n",
       "    <tr style=\"text-align: right;\">\n",
       "      <th></th>\n",
       "      <th>count</th>\n",
       "      <th>mean</th>\n",
       "      <th>std</th>\n",
       "      <th>min</th>\n",
       "      <th>25%</th>\n",
       "      <th>50%</th>\n",
       "      <th>75%</th>\n",
       "      <th>max</th>\n",
       "    </tr>\n",
       "    <tr>\n",
       "      <th>subreddit</th>\n",
       "      <th></th>\n",
       "      <th></th>\n",
       "      <th></th>\n",
       "      <th></th>\n",
       "      <th></th>\n",
       "      <th></th>\n",
       "      <th></th>\n",
       "      <th></th>\n",
       "    </tr>\n",
       "  </thead>\n",
       "  <tbody>\n",
       "    <tr>\n",
       "      <th>ADHD</th>\n",
       "      <td>1509.0</td>\n",
       "      <td>0.094359</td>\n",
       "      <td>0.056346</td>\n",
       "      <td>0.0</td>\n",
       "      <td>0.05400</td>\n",
       "      <td>0.088</td>\n",
       "      <td>0.13100</td>\n",
       "      <td>0.335</td>\n",
       "    </tr>\n",
       "    <tr>\n",
       "      <th>Anxiety</th>\n",
       "      <td>1844.0</td>\n",
       "      <td>0.158286</td>\n",
       "      <td>0.078900</td>\n",
       "      <td>0.0</td>\n",
       "      <td>0.10575</td>\n",
       "      <td>0.153</td>\n",
       "      <td>0.20225</td>\n",
       "      <td>0.575</td>\n",
       "    </tr>\n",
       "    <tr>\n",
       "      <th>aspergers</th>\n",
       "      <td>1329.0</td>\n",
       "      <td>0.097469</td>\n",
       "      <td>0.071838</td>\n",
       "      <td>0.0</td>\n",
       "      <td>0.04400</td>\n",
       "      <td>0.090</td>\n",
       "      <td>0.14300</td>\n",
       "      <td>0.488</td>\n",
       "    </tr>\n",
       "    <tr>\n",
       "      <th>depression</th>\n",
       "      <td>1663.0</td>\n",
       "      <td>0.175554</td>\n",
       "      <td>0.088048</td>\n",
       "      <td>0.0</td>\n",
       "      <td>0.11900</td>\n",
       "      <td>0.168</td>\n",
       "      <td>0.22400</td>\n",
       "      <td>0.592</td>\n",
       "    </tr>\n",
       "  </tbody>\n",
       "</table>\n",
       "</div>"
      ],
      "text/plain": [
       "             count      mean       std  min      25%    50%      75%    max\n",
       "subreddit                                                                  \n",
       "ADHD        1509.0  0.094359  0.056346  0.0  0.05400  0.088  0.13100  0.335\n",
       "Anxiety     1844.0  0.158286  0.078900  0.0  0.10575  0.153  0.20225  0.575\n",
       "aspergers   1329.0  0.097469  0.071838  0.0  0.04400  0.090  0.14300  0.488\n",
       "depression  1663.0  0.175554  0.088048  0.0  0.11900  0.168  0.22400  0.592"
      ]
     },
     "execution_count": 43,
     "metadata": {},
     "output_type": "execute_result"
    }
   ],
   "source": [
    "sia_df.groupby('subreddit')['neg'].describe()"
   ]
  },
  {
   "cell_type": "code",
   "execution_count": 44,
   "id": "0495c3eb",
   "metadata": {},
   "outputs": [
    {
     "data": {
      "text/html": [
       "<div>\n",
       "<style scoped>\n",
       "    .dataframe tbody tr th:only-of-type {\n",
       "        vertical-align: middle;\n",
       "    }\n",
       "\n",
       "    .dataframe tbody tr th {\n",
       "        vertical-align: top;\n",
       "    }\n",
       "\n",
       "    .dataframe thead th {\n",
       "        text-align: right;\n",
       "    }\n",
       "</style>\n",
       "<table border=\"1\" class=\"dataframe\">\n",
       "  <thead>\n",
       "    <tr style=\"text-align: right;\">\n",
       "      <th></th>\n",
       "      <th>count</th>\n",
       "      <th>mean</th>\n",
       "      <th>std</th>\n",
       "      <th>min</th>\n",
       "      <th>25%</th>\n",
       "      <th>50%</th>\n",
       "      <th>75%</th>\n",
       "      <th>max</th>\n",
       "    </tr>\n",
       "    <tr>\n",
       "      <th>subreddit</th>\n",
       "      <th></th>\n",
       "      <th></th>\n",
       "      <th></th>\n",
       "      <th></th>\n",
       "      <th></th>\n",
       "      <th></th>\n",
       "      <th></th>\n",
       "      <th></th>\n",
       "    </tr>\n",
       "  </thead>\n",
       "  <tbody>\n",
       "    <tr>\n",
       "      <th>ADHD</th>\n",
       "      <td>1509.0</td>\n",
       "      <td>0.798784</td>\n",
       "      <td>0.072578</td>\n",
       "      <td>0.575</td>\n",
       "      <td>0.7510</td>\n",
       "      <td>0.802</td>\n",
       "      <td>0.849</td>\n",
       "      <td>1.0</td>\n",
       "    </tr>\n",
       "    <tr>\n",
       "      <th>Anxiety</th>\n",
       "      <td>1844.0</td>\n",
       "      <td>0.740241</td>\n",
       "      <td>0.088090</td>\n",
       "      <td>0.226</td>\n",
       "      <td>0.6870</td>\n",
       "      <td>0.745</td>\n",
       "      <td>0.797</td>\n",
       "      <td>1.0</td>\n",
       "    </tr>\n",
       "    <tr>\n",
       "      <th>aspergers</th>\n",
       "      <td>1329.0</td>\n",
       "      <td>0.788051</td>\n",
       "      <td>0.092463</td>\n",
       "      <td>0.407</td>\n",
       "      <td>0.7320</td>\n",
       "      <td>0.788</td>\n",
       "      <td>0.848</td>\n",
       "      <td>1.0</td>\n",
       "    </tr>\n",
       "    <tr>\n",
       "      <th>depression</th>\n",
       "      <td>1663.0</td>\n",
       "      <td>0.700867</td>\n",
       "      <td>0.096319</td>\n",
       "      <td>0.329</td>\n",
       "      <td>0.6445</td>\n",
       "      <td>0.703</td>\n",
       "      <td>0.762</td>\n",
       "      <td>1.0</td>\n",
       "    </tr>\n",
       "  </tbody>\n",
       "</table>\n",
       "</div>"
      ],
      "text/plain": [
       "             count      mean       std    min     25%    50%    75%  max\n",
       "subreddit                                                               \n",
       "ADHD        1509.0  0.798784  0.072578  0.575  0.7510  0.802  0.849  1.0\n",
       "Anxiety     1844.0  0.740241  0.088090  0.226  0.6870  0.745  0.797  1.0\n",
       "aspergers   1329.0  0.788051  0.092463  0.407  0.7320  0.788  0.848  1.0\n",
       "depression  1663.0  0.700867  0.096319  0.329  0.6445  0.703  0.762  1.0"
      ]
     },
     "execution_count": 44,
     "metadata": {},
     "output_type": "execute_result"
    }
   ],
   "source": [
    "sia_df.groupby('subreddit')['neu'].describe()"
   ]
  },
  {
   "cell_type": "code",
   "execution_count": 45,
   "id": "944888a7",
   "metadata": {},
   "outputs": [
    {
     "data": {
      "text/html": [
       "<div>\n",
       "<style scoped>\n",
       "    .dataframe tbody tr th:only-of-type {\n",
       "        vertical-align: middle;\n",
       "    }\n",
       "\n",
       "    .dataframe tbody tr th {\n",
       "        vertical-align: top;\n",
       "    }\n",
       "\n",
       "    .dataframe thead th {\n",
       "        text-align: right;\n",
       "    }\n",
       "</style>\n",
       "<table border=\"1\" class=\"dataframe\">\n",
       "  <thead>\n",
       "    <tr style=\"text-align: right;\">\n",
       "      <th></th>\n",
       "      <th>count</th>\n",
       "      <th>mean</th>\n",
       "      <th>std</th>\n",
       "      <th>min</th>\n",
       "      <th>25%</th>\n",
       "      <th>50%</th>\n",
       "      <th>75%</th>\n",
       "      <th>max</th>\n",
       "    </tr>\n",
       "    <tr>\n",
       "      <th>subreddit</th>\n",
       "      <th></th>\n",
       "      <th></th>\n",
       "      <th></th>\n",
       "      <th></th>\n",
       "      <th></th>\n",
       "      <th></th>\n",
       "      <th></th>\n",
       "      <th></th>\n",
       "    </tr>\n",
       "  </thead>\n",
       "  <tbody>\n",
       "    <tr>\n",
       "      <th>ADHD</th>\n",
       "      <td>1509.0</td>\n",
       "      <td>0.106866</td>\n",
       "      <td>0.055455</td>\n",
       "      <td>0.0</td>\n",
       "      <td>0.07000</td>\n",
       "      <td>0.103</td>\n",
       "      <td>0.13900</td>\n",
       "      <td>0.350</td>\n",
       "    </tr>\n",
       "    <tr>\n",
       "      <th>Anxiety</th>\n",
       "      <td>1844.0</td>\n",
       "      <td>0.101482</td>\n",
       "      <td>0.065447</td>\n",
       "      <td>0.0</td>\n",
       "      <td>0.05775</td>\n",
       "      <td>0.095</td>\n",
       "      <td>0.13525</td>\n",
       "      <td>0.774</td>\n",
       "    </tr>\n",
       "    <tr>\n",
       "      <th>aspergers</th>\n",
       "      <td>1329.0</td>\n",
       "      <td>0.114477</td>\n",
       "      <td>0.078816</td>\n",
       "      <td>0.0</td>\n",
       "      <td>0.06500</td>\n",
       "      <td>0.106</td>\n",
       "      <td>0.15000</td>\n",
       "      <td>0.593</td>\n",
       "    </tr>\n",
       "    <tr>\n",
       "      <th>depression</th>\n",
       "      <td>1663.0</td>\n",
       "      <td>0.123560</td>\n",
       "      <td>0.072692</td>\n",
       "      <td>0.0</td>\n",
       "      <td>0.07400</td>\n",
       "      <td>0.118</td>\n",
       "      <td>0.16650</td>\n",
       "      <td>0.520</td>\n",
       "    </tr>\n",
       "  </tbody>\n",
       "</table>\n",
       "</div>"
      ],
      "text/plain": [
       "             count      mean       std  min      25%    50%      75%    max\n",
       "subreddit                                                                  \n",
       "ADHD        1509.0  0.106866  0.055455  0.0  0.07000  0.103  0.13900  0.350\n",
       "Anxiety     1844.0  0.101482  0.065447  0.0  0.05775  0.095  0.13525  0.774\n",
       "aspergers   1329.0  0.114477  0.078816  0.0  0.06500  0.106  0.15000  0.593\n",
       "depression  1663.0  0.123560  0.072692  0.0  0.07400  0.118  0.16650  0.520"
      ]
     },
     "execution_count": 45,
     "metadata": {},
     "output_type": "execute_result"
    }
   ],
   "source": [
    "sia_df.groupby('subreddit')['pos'].describe()"
   ]
  },
  {
   "cell_type": "markdown",
   "id": "5d14a2a4",
   "metadata": {},
   "source": [
    "### Tidying up\n",
    "\n",
    "Before exporting my final dataframes, I decided to convert my target columns to numeric values and dropped the `length` feature, as it is correlated with `word_count`. Then I double-checked my baseline. "
   ]
  },
  {
   "cell_type": "code",
   "execution_count": 46,
   "id": "19c3782a",
   "metadata": {},
   "outputs": [],
   "source": [
    "df['subreddit'] = df['subreddit'].map({'Anxiety': 0, 'ADHD': 1,'depression': 2, 'aspergers' : 3})"
   ]
  },
  {
   "cell_type": "code",
   "execution_count": 49,
   "id": "ed35f4e4",
   "metadata": {},
   "outputs": [],
   "source": [
    "df.drop(columns = 'length', inplace = True)"
   ]
  },
  {
   "cell_type": "code",
   "execution_count": 47,
   "id": "04e2cedb",
   "metadata": {},
   "outputs": [
    {
     "data": {
      "text/plain": [
       "0    0.290623\n",
       "2    0.262096\n",
       "1    0.237825\n",
       "3    0.209456\n",
       "Name: subreddit, dtype: float64"
      ]
     },
     "execution_count": 47,
     "metadata": {},
     "output_type": "execute_result"
    }
   ],
   "source": [
    "df['subreddit'].value_counts(normalize = True)"
   ]
  },
  {
   "cell_type": "code",
   "execution_count": 48,
   "id": "09793d6e",
   "metadata": {},
   "outputs": [],
   "source": [
    "df.to_csv('df.csv', index = False)\n",
    "sia_df.to_csv('sentiment.csv', index = False)\n",
    "anxiety.to_csv('anxiety.csv', index = False)\n",
    "adhd.to_csv('adhd.csv', index = False)\n",
    "depression.to_csv('depression.csv', index = False)\n",
    "autism.to_csv('autism.csv', index = False)"
   ]
  }
 ],
 "metadata": {
  "kernelspec": {
   "display_name": "Python 3",
   "language": "python",
   "name": "python3"
  },
  "language_info": {
   "codemirror_mode": {
    "name": "ipython",
    "version": 3
   },
   "file_extension": ".py",
   "mimetype": "text/x-python",
   "name": "python",
   "nbconvert_exporter": "python",
   "pygments_lexer": "ipython3",
   "version": "3.8.8"
  }
 },
 "nbformat": 4,
 "nbformat_minor": 5
}
