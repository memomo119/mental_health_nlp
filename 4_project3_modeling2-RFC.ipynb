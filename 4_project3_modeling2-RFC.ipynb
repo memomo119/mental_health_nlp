{
 "cells": [
  {
   "cell_type": "markdown",
   "id": "6a65ce0d",
   "metadata": {},
   "source": [
    "## Step 4-B: Modeling\n",
    "### Random Forest Classifier.\n",
    "\n",
    "I next ran a Random Forest Classifier. \n",
    "\n",
    "Due to the slowness of grid searching over many parameters, I used the Count Vectorizer parameters that I had previously determined when modeling with Multinomial Naive Bayes. I only gridsearched parameters for the Random Forest Classifier. "
   ]
  },
  {
   "cell_type": "code",
   "execution_count": 1,
   "id": "5f45b57c",
   "metadata": {},
   "outputs": [],
   "source": [
    "import pandas as pd\n",
    "import numpy as np\n",
    "\n",
    "from sklearn.feature_extraction.text import CountVectorizer\n",
    "from sklearn.model_selection import train_test_split, GridSearchCV, cross_val_score\n",
    "from sklearn.pipeline import Pipeline\n",
    "from sklearn.ensemble import RandomForestClassifier"
   ]
  },
  {
   "cell_type": "code",
   "execution_count": 2,
   "id": "16b17bc9",
   "metadata": {},
   "outputs": [],
   "source": [
    "df = pd.read_csv('./all.csv')"
   ]
  },
  {
   "cell_type": "code",
   "execution_count": 3,
   "id": "983dbfc6",
   "metadata": {},
   "outputs": [],
   "source": [
    "#Quick clean-up task that leaked into modeling\n",
    "df.dropna(inplace = True)"
   ]
  },
  {
   "cell_type": "markdown",
   "id": "a6b3c884",
   "metadata": {},
   "source": [
    "### Pre-Processing"
   ]
  },
  {
   "cell_type": "code",
   "execution_count": 4,
   "id": "df7ef465",
   "metadata": {},
   "outputs": [],
   "source": [
    "X = df.drop(columns = ['subreddit','created_utc'])\n",
    "y = df['subreddit']"
   ]
  },
  {
   "cell_type": "code",
   "execution_count": 5,
   "id": "5725e83a",
   "metadata": {},
   "outputs": [
    {
     "data": {
      "text/plain": [
       "0    0.284551\n",
       "2    0.258203\n",
       "1    0.232724\n",
       "3    0.224522\n",
       "Name: subreddit, dtype: float64"
      ]
     },
     "execution_count": 5,
     "metadata": {},
     "output_type": "execute_result"
    }
   ],
   "source": [
    "#Baseline\n",
    "#Anxiety = 0, ADHD = 1, Depression = 2, Autism = 3\n",
    "y.value_counts(normalize = True)"
   ]
  },
  {
   "cell_type": "code",
   "execution_count": 6,
   "id": "96fe343b",
   "metadata": {},
   "outputs": [],
   "source": [
    "X_train, X_test, y_train, y_test = train_test_split(X, y, stratify = y, random_state = 42)"
   ]
  },
  {
   "cell_type": "code",
   "execution_count": 7,
   "id": "1c150535",
   "metadata": {},
   "outputs": [],
   "source": [
    "cvec = CountVectorizer(stop_words = 'english', max_df = .9, max_features = 4000)\n",
    "Xcvec_train = cvec.fit_transform(X_train['selftext'])\n",
    "Xcvec_test = cvec.transform(X_test['selftext'])"
   ]
  },
  {
   "cell_type": "code",
   "execution_count": 8,
   "id": "2589fbe6",
   "metadata": {},
   "outputs": [
    {
     "data": {
      "text/plain": [
       "<12069x4000 sparse matrix of type '<class 'numpy.int64'>'\n",
       "\twith 585859 stored elements in Compressed Sparse Row format>"
      ]
     },
     "execution_count": 8,
     "metadata": {},
     "output_type": "execute_result"
    }
   ],
   "source": [
    "Xcvec_train"
   ]
  },
  {
   "cell_type": "code",
   "execution_count": 9,
   "id": "2bf7f628",
   "metadata": {},
   "outputs": [],
   "source": [
    "Xcv_train_df = pd.DataFrame(Xcvec_train.todense(), columns=cvec.get_feature_names())\n",
    "Xcv_test_df = pd.DataFrame(Xcvec_test.todense(), columns=cvec.get_feature_names())"
   ]
  },
  {
   "cell_type": "code",
   "execution_count": 10,
   "id": "1851184a",
   "metadata": {},
   "outputs": [],
   "source": [
    "Xcv_train_df.reset_index(drop=True, inplace=True)\n",
    "X_train.reset_index(drop=True, inplace=True)\n",
    "Xcv_test_df.reset_index(drop=True, inplace = True)\n",
    "X_test.reset_index(drop=True, inplace=True)"
   ]
  },
  {
   "cell_type": "code",
   "execution_count": 11,
   "id": "36ba76ad",
   "metadata": {},
   "outputs": [],
   "source": [
    "X_train_all = pd.concat([Xcv_train_df, X_train], axis=1)\n",
    "X_test_all = pd.concat([Xcv_test_df, X_test], axis=1)"
   ]
  },
  {
   "cell_type": "code",
   "execution_count": 12,
   "id": "040942a1",
   "metadata": {},
   "outputs": [],
   "source": [
    "X_train_all.drop(columns = 'selftext', inplace = True)"
   ]
  },
  {
   "cell_type": "code",
   "execution_count": 13,
   "id": "360aa398",
   "metadata": {},
   "outputs": [],
   "source": [
    "X_test_all.drop(columns = 'selftext', inplace = True)"
   ]
  },
  {
   "cell_type": "code",
   "execution_count": 14,
   "id": "23b6e432",
   "metadata": {},
   "outputs": [
    {
     "data": {
      "text/plain": [
       "((12069, 4006), (12069,))"
      ]
     },
     "execution_count": 14,
     "metadata": {},
     "output_type": "execute_result"
    }
   ],
   "source": [
    "X_train_all.shape, y_train.shape"
   ]
  },
  {
   "cell_type": "markdown",
   "id": "7a5e5652",
   "metadata": {},
   "source": [
    "### Modeling with Random Forest\n",
    "\n",
    "The accuracy of this model was about the same as the others, but it took the longest to run the grid search out of all of them. The overfit issue persists. \n",
    "\n",
    "One reason I chose Random Forest and GBoost is that I was able to take into consideration the sentiment analysis, which I believe is highly relevant to this problem. However, it doesn't seem to make much of a difference to the accuracy. "
   ]
  },
  {
   "cell_type": "code",
   "execution_count": 15,
   "id": "cc98ad5c",
   "metadata": {},
   "outputs": [],
   "source": [
    "rfc = RandomForestClassifier()"
   ]
  },
  {
   "cell_type": "code",
   "execution_count": 16,
   "id": "db04430d",
   "metadata": {},
   "outputs": [],
   "source": [
    "params = {'n_estimators': [750, 1000],\n",
    "          'max_depth': [17, 19],\n",
    "         'min_samples_split': [4, 5],\n",
    "         'min_samples_leaf': [2, 3],\n",
    "         'max_features': ['auto']}"
   ]
  },
  {
   "cell_type": "code",
   "execution_count": 17,
   "id": "0fb6520a",
   "metadata": {},
   "outputs": [],
   "source": [
    "gs = GridSearchCV(rfc, params, cv = 3)"
   ]
  },
  {
   "cell_type": "code",
   "execution_count": 18,
   "id": "03ce6395",
   "metadata": {},
   "outputs": [
    {
     "data": {
      "text/plain": [
       "GridSearchCV(cv=3, estimator=RandomForestClassifier(),\n",
       "             param_grid={'max_depth': [17, 19], 'max_features': ['auto'],\n",
       "                         'min_samples_leaf': [2, 3],\n",
       "                         'min_samples_split': [4, 5],\n",
       "                         'n_estimators': [750, 1000]})"
      ]
     },
     "execution_count": 18,
     "metadata": {},
     "output_type": "execute_result"
    }
   ],
   "source": [
    "gs.fit(X_train_all, y_train)"
   ]
  },
  {
   "cell_type": "code",
   "execution_count": 19,
   "id": "799d7c00",
   "metadata": {},
   "outputs": [
    {
     "data": {
      "text/plain": [
       "(0.8332090479741486, 0.7578921203082277)"
      ]
     },
     "execution_count": 19,
     "metadata": {},
     "output_type": "execute_result"
    }
   ],
   "source": [
    "gs.score(X_train_all, y_train), gs.score(X_test_all, y_test)"
   ]
  },
  {
   "cell_type": "code",
   "execution_count": 20,
   "id": "c6a5d71f",
   "metadata": {},
   "outputs": [
    {
     "data": {
      "text/plain": [
       "{'max_depth': 19,\n",
       " 'max_features': 'auto',\n",
       " 'min_samples_leaf': 2,\n",
       " 'min_samples_split': 4,\n",
       " 'n_estimators': 1000}"
      ]
     },
     "execution_count": 20,
     "metadata": {},
     "output_type": "execute_result"
    }
   ],
   "source": [
    "gs.best_params_"
   ]
  }
 ],
 "metadata": {
  "kernelspec": {
   "display_name": "Python 3",
   "language": "python",
   "name": "python3"
  },
  "language_info": {
   "codemirror_mode": {
    "name": "ipython",
    "version": 3
   },
   "file_extension": ".py",
   "mimetype": "text/x-python",
   "name": "python",
   "nbconvert_exporter": "python",
   "pygments_lexer": "ipython3",
   "version": "3.8.8"
  }
 },
 "nbformat": 4,
 "nbformat_minor": 5
}
