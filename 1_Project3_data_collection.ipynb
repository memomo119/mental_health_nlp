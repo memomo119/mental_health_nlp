{
 "cells": [
  {
   "cell_type": "markdown",
   "id": "d23c7835",
   "metadata": {},
   "source": [
    "# NLP Project\n",
    "## Step 1: Defining the Problem\n",
    "Many people who are diagnosed with one neurological condition or mental illness discover at some point that they also have one or more other conditions. For example, many people have both anxiety and depression at the same time. Some of the symptoms of autism and ADHD are so similar that people may not be able to tell which one they have, or if they have both. \n",
    "\n",
    "This makes it confusing and messy to get to a correct diagnosis, which has implications for prognosis, treatment, medication, and accomodations at school or work. Can analyzing posts from other people about their own experiences, thoughts, feelings, etc in relation to their condition help individuals understand their own mind better? \n",
    "\n",
    "### Problem Statement\n",
    "\n",
    "The following models aim to classify posts from subreddits for several overlapping mental health conditions, with the goal of helping people understand their brains (or their loved ones’ brains) better. These models could point patients in the right direction when seeking professional help, or could even be used by clinicians to supplement evaluation. \n",
    "\n",
    "## Step 2: Data Collection\n",
    "\n",
    "I chose 4 subreddits associated with a well-known psychological condition:\n",
    "- [ADHD](https://www.reddit.com/r/ADHD/)\n",
    "- [Anxiety](https://www.reddit.com/r/Anxiety/)\n",
    "- [Depression](https://www.reddit.com/r/depression/)\n",
    "- [Aspergers](https://www.reddit.com/r/aspergers/)\n",
    "\n",
    "Using the PushShift API provided by Reddit, I wrote a function that could scrape a specfied number of batches of a specified size. To avoid repeatedly returning the same posts, I used the UTC of the post to narrow the request to posts written before the earliest post of the previous batch. \n",
    "\n",
    "Then I saved the posts from each subreddit as a separate dataframe, to be cleaned in the next step. \n",
    "\n",
    "#### Notes and disclaimers:\n",
    "*Aspergers is not a recognized diagnosis anymore, but many people still identify with the term. The Aspergers subreddit is about the same size as the Autism subreddit but it has more text-based posts, so it was a more appropriate choice for this project.*\n",
    "\n",
    "*This is a project for a class, not a replacement for an actual, certified mental health professional! If you've stumbled across this tool and have concerns about your mental well-being, please talk to your doctor.*"
   ]
  },
  {
   "cell_type": "code",
   "execution_count": 1,
   "id": "65b7a374",
   "metadata": {},
   "outputs": [],
   "source": [
    "import pandas as pd\n",
    "import requests\n",
    "import numpy as np\n",
    "import time"
   ]
  },
  {
   "cell_type": "code",
   "execution_count": 2,
   "id": "d7183e6e",
   "metadata": {},
   "outputs": [],
   "source": [
    "#https://www.shanelynn.ie/pandas-iloc-loc-select-rows-and-columns-dataframe/\n",
    "#https://stackoverflow.com/questions/9539921/how-do-i-create-a-python-function-with-optional-arguments\n",
    "\n",
    "def get_reddit(subreddit, size, call_count, before_utc):\n",
    "    df = pd.DataFrame()\n",
    "    utc = before_utc\n",
    "    i = 0\n",
    "    while i < call_count:\n",
    "        url = 'https://api.pushshift.io/reddit/search/submission'\n",
    "        params = {\n",
    "            'subreddit' : subreddit,\n",
    "            'size' : size,\n",
    "            'before' : utc\n",
    "                }\n",
    "        res = requests.get(url, params)\n",
    "        if res.status_code == 200:\n",
    "            posts = res.json()['data']\n",
    "            minidf = pd.DataFrame(posts)[['subreddit', 'title', 'selftext', 'created_utc']]\n",
    "            utc = minidf.iloc[-1, -1]\n",
    "            df = df.append(minidf)\n",
    "            time.sleep(1)\n",
    "            i += 1\n",
    "        else:\n",
    "            return f'Unexpected status code: {res.status_code}'\n",
    "    return df"
   ]
  },
  {
   "cell_type": "code",
   "execution_count": 3,
   "id": "787be9b0",
   "metadata": {},
   "outputs": [],
   "source": [
    "anxiety_df = get_reddit('Anxiety',100, 50, 1635429621)"
   ]
  },
  {
   "cell_type": "code",
   "execution_count": 4,
   "id": "4f178bae",
   "metadata": {},
   "outputs": [],
   "source": [
    "adhd_df = get_reddit('ADHD',100, 50, 1635429621)"
   ]
  },
  {
   "cell_type": "code",
   "execution_count": 5,
   "id": "2b3992d5",
   "metadata": {},
   "outputs": [],
   "source": [
    "depression_df = get_reddit('Depression',100, 50, 1635429621)"
   ]
  },
  {
   "cell_type": "code",
   "execution_count": 6,
   "id": "447abcfa",
   "metadata": {},
   "outputs": [],
   "source": [
    "autism_df = get_reddit('Aspergers',100, 50, 1635429621)"
   ]
  },
  {
   "cell_type": "code",
   "execution_count": 7,
   "id": "a2604c60",
   "metadata": {},
   "outputs": [
    {
     "name": "stdout",
     "output_type": "stream",
     "text": [
      "<class 'pandas.core.frame.DataFrame'>\n",
      "Int64Index: 2000 entries, 0 to 99\n",
      "Data columns (total 4 columns):\n",
      " #   Column       Non-Null Count  Dtype \n",
      "---  ------       --------------  ----- \n",
      " 0   subreddit    2000 non-null   object\n",
      " 1   title        2000 non-null   object\n",
      " 2   selftext     2000 non-null   object\n",
      " 3   created_utc  2000 non-null   int64 \n",
      "dtypes: int64(1), object(3)\n",
      "memory usage: 78.1+ KB\n"
     ]
    }
   ],
   "source": [
    "anxiety_df.info()"
   ]
  },
  {
   "cell_type": "code",
   "execution_count": 8,
   "id": "4fc2c7d5",
   "metadata": {},
   "outputs": [
    {
     "name": "stdout",
     "output_type": "stream",
     "text": [
      "<class 'pandas.core.frame.DataFrame'>\n",
      "Int64Index: 1999 entries, 0 to 99\n",
      "Data columns (total 4 columns):\n",
      " #   Column       Non-Null Count  Dtype \n",
      "---  ------       --------------  ----- \n",
      " 0   subreddit    1999 non-null   object\n",
      " 1   title        1999 non-null   object\n",
      " 2   selftext     1999 non-null   object\n",
      " 3   created_utc  1999 non-null   int64 \n",
      "dtypes: int64(1), object(3)\n",
      "memory usage: 78.1+ KB\n"
     ]
    }
   ],
   "source": [
    "adhd_df.info()"
   ]
  },
  {
   "cell_type": "code",
   "execution_count": 9,
   "id": "afce3d04",
   "metadata": {},
   "outputs": [
    {
     "name": "stdout",
     "output_type": "stream",
     "text": [
      "<class 'pandas.core.frame.DataFrame'>\n",
      "Int64Index: 2000 entries, 0 to 99\n",
      "Data columns (total 4 columns):\n",
      " #   Column       Non-Null Count  Dtype \n",
      "---  ------       --------------  ----- \n",
      " 0   subreddit    2000 non-null   object\n",
      " 1   title        2000 non-null   object\n",
      " 2   selftext     1999 non-null   object\n",
      " 3   created_utc  2000 non-null   int64 \n",
      "dtypes: int64(1), object(3)\n",
      "memory usage: 78.1+ KB\n"
     ]
    }
   ],
   "source": [
    "depression_df.info()"
   ]
  },
  {
   "cell_type": "code",
   "execution_count": 10,
   "id": "94e11aaa",
   "metadata": {},
   "outputs": [
    {
     "name": "stdout",
     "output_type": "stream",
     "text": [
      "<class 'pandas.core.frame.DataFrame'>\n",
      "Int64Index: 2000 entries, 0 to 99\n",
      "Data columns (total 4 columns):\n",
      " #   Column       Non-Null Count  Dtype \n",
      "---  ------       --------------  ----- \n",
      " 0   subreddit    2000 non-null   object\n",
      " 1   title        2000 non-null   object\n",
      " 2   selftext     1993 non-null   object\n",
      " 3   created_utc  2000 non-null   int64 \n",
      "dtypes: int64(1), object(3)\n",
      "memory usage: 78.1+ KB\n"
     ]
    }
   ],
   "source": [
    "autism_df.info()"
   ]
  },
  {
   "cell_type": "code",
   "execution_count": 11,
   "id": "4f0f0b02",
   "metadata": {},
   "outputs": [],
   "source": [
    "anxiety_df.to_csv('anxiety.csv', index = False)\n",
    "adhd_df.to_csv('adhd.csv', index = False)\n",
    "depression_df.to_csv('depression.csv', index = False)\n",
    "autism_df.to_csv('autism.csv', index = False)"
   ]
  }
 ],
 "metadata": {
  "kernelspec": {
   "display_name": "Python 3",
   "language": "python",
   "name": "python3"
  },
  "language_info": {
   "codemirror_mode": {
    "name": "ipython",
    "version": 3
   },
   "file_extension": ".py",
   "mimetype": "text/x-python",
   "name": "python",
   "nbconvert_exporter": "python",
   "pygments_lexer": "ipython3",
   "version": "3.8.8"
  }
 },
 "nbformat": 4,
 "nbformat_minor": 5
}
